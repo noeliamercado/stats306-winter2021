{
  "nbformat": 4,
  "nbformat_minor": 0,
  "metadata": {
    "kernelspec": {
      "display_name": "R",
      "language": "R",
      "name": "ir"
    },
    "language_info": {
      "codemirror_mode": "r",
      "file_extension": ".r",
      "mimetype": "text/x-r-source",
      "name": "R",
      "pygments_lexer": "r",
      "version": "4.0.3"
    },
    "colab": {
      "name": "HW2.ipynb.txt",
      "provenance": [],
      "include_colab_link": true
    }
  },
  "cells": [
    {
      "cell_type": "markdown",
      "metadata": {
        "id": "view-in-github",
        "colab_type": "text"
      },
      "source": [
        "<a href=\"https://colab.research.google.com/github/noeliamercado/stats306-winter2021/blob/main/HW2_ipynb_txt.ipynb\" target=\"_parent\"><img src=\"https://colab.research.google.com/assets/colab-badge.svg\" alt=\"Open In Colab\"/></a>"
      ]
    },
    {
      "cell_type": "markdown",
      "metadata": {
        "id": "2KRyy01aXRV6"
      },
      "source": [
        "## STATS 306 WI 2021, HW 2, _20 points_\n",
        "\n",
        "Assigned: 02/11/2021\n",
        "\n",
        "Due: 02/19/2021  \n",
        "(for full credit, your canvas upload needs to occur by 11:59 pm in your local time zone)"
      ]
    },
    {
      "cell_type": "markdown",
      "metadata": {
        "id": "ERLNuISbXRWA"
      },
      "source": [
        "### Instructions"
      ]
    },
    {
      "cell_type": "markdown",
      "metadata": {
        "id": "5LmebnZ2XRWB"
      },
      "source": [
        "* Before you submit the problem set, make sure everything runs as expected. Go to the menu bar at the top of Jupyter Notebook and click `Kernel > Restart & Run All` . Equivalently in Colab, `Runtime > Restart & Run All`. Your code should run from top to bottom with no errors. Failure to do this will result in loss of points.\n",
        "\n",
        "* Each problem has their own answer cell. Depending on the problem, the answer cell is a Markdown cell (to type text answers) or a Code cell (to type R code). Please write your answer in the designated cell. If you want to add addtional cells make sure to add them just below the designated cell.\n",
        "\n",
        "* After you done with running your code, use `Ctrl` or `⌘` + `p` then click `save as pdf` to save your homework as pdf file. Do not use pdf exporter feature of jupyter! You are not going to upload your `.ipynb` file, we just need the `.pdf`. It is your responsibility to ensure that your answers are clearly visible in the pdf file you upload to Canvas.\n",
        "\n",
        "* Use Slack `#hw2` channel to discuss the problems and ask for clarifications. But please be careful not to post an answer or part of an answer. Doing so may result in loss of points and/or disqualification from submitting the homework.\n",
        "\n",
        "* Late submissions will not be accepted (unless there is a documented emergency)."
      ]
    },
    {
      "cell_type": "markdown",
      "metadata": {
        "id": "8aQaYzN4XRWC"
      },
      "source": [
        "### Required Packages"
      ]
    },
    {
      "cell_type": "code",
      "metadata": {
        "colab": {
          "base_uri": "https://localhost:8080/"
        },
        "id": "jAHWvrp_XRWC",
        "outputId": "5e5f3dcc-eff5-4774-d1bf-ff36d00fe9f5"
      },
      "source": [
        "library(tidyverse)"
      ],
      "execution_count": 4,
      "outputs": [
        {
          "output_type": "stream",
          "text": [
            "── \u001b[1mAttaching packages\u001b[22m ─────────────────────────────────────── tidyverse 1.3.0 ──\n",
            "\n",
            "\u001b[32m✔\u001b[39m \u001b[34mggplot2\u001b[39m 3.3.3     \u001b[32m✔\u001b[39m \u001b[34mpurrr  \u001b[39m 0.3.4\n",
            "\u001b[32m✔\u001b[39m \u001b[34mtibble \u001b[39m 3.0.6     \u001b[32m✔\u001b[39m \u001b[34mdplyr  \u001b[39m 1.0.4\n",
            "\u001b[32m✔\u001b[39m \u001b[34mtidyr  \u001b[39m 1.1.2     \u001b[32m✔\u001b[39m \u001b[34mstringr\u001b[39m 1.4.0\n",
            "\u001b[32m✔\u001b[39m \u001b[34mreadr  \u001b[39m 1.4.0     \u001b[32m✔\u001b[39m \u001b[34mforcats\u001b[39m 0.5.1\n",
            "\n",
            "── \u001b[1mConflicts\u001b[22m ────────────────────────────────────────── tidyverse_conflicts() ──\n",
            "\u001b[31m✖\u001b[39m \u001b[34mdplyr\u001b[39m::\u001b[32mfilter()\u001b[39m masks \u001b[34mstats\u001b[39m::filter()\n",
            "\u001b[31m✖\u001b[39m \u001b[34mdplyr\u001b[39m::\u001b[32mlag()\u001b[39m    masks \u001b[34mstats\u001b[39m::lag()\n",
            "\n"
          ],
          "name": "stderr"
        }
      ]
    },
    {
      "cell_type": "markdown",
      "metadata": {
        "id": "kT9Vl45xXRWD"
      },
      "source": [
        "### Problem 1, _5 points_"
      ]
    },
    {
      "cell_type": "markdown",
      "metadata": {
        "id": "8Ovq42JAXRWE"
      },
      "source": [
        "**(1)** Geometries have statistical transformation associated with them. Statistical transformations produce new **computed variables**. What is the statistical transformation associated with `geom_smooth`. Also list _all_ the computed variables that it computes. _1 point_"
      ]
    },
    {
      "cell_type": "markdown",
      "metadata": {
        "id": "6E75WFkNXRWE"
      },
      "source": [
        "geom_smooth draws a different line with different linetypes for each of the unique values of the variable that is mapped to a linetype. The computed variables that it computes are \"count\" and \"prob\". "
      ]
    },
    {
      "cell_type": "markdown",
      "metadata": {
        "id": "OxZwzwQ-XRWE"
      },
      "source": [
        "**(2)** Write the `ggplot` command to produce the following plot using data from the `mpg` tibble. _2 points_\n",
        "![title](https://github.com/ambujtewari/stats306-winter2021/raw/main/homeworks/HW2/Rplot1.jpeg)"
      ]
    },
    {
      "cell_type": "code",
      "metadata": {
        "colab": {
          "base_uri": "https://localhost:8080/",
          "height": 437
        },
        "id": "xi3epN1fpNcK",
        "outputId": "49d9c3bd-bff8-48fc-8b79-b9e789285529"
      },
      "source": [
        "ggplot(data = mpg) +\n",
        "  geom_bar(mapping = aes (x = class, fill = drv))"
      ],
      "execution_count": null,
      "outputs": [
        {
          "output_type": "display_data",
          "data": {
            "image/png": "[encoded data removed]",
            "text/plain": [
              "plot without title"
            ]
          },
          "metadata": {
            "tags": [],
            "image/png": {
              "width": 420,
              "height": 420
            }
          }
        }
      ]
    },
    {
      "cell_type": "markdown",
      "metadata": {
        "id": "RJEcxelIXRWF"
      },
      "source": [
        "**(3)** Write the `ggplot` command to produce the following plot using data from the `mpg` tibble. _1 point_\n",
        "![title](https://github.com/ambujtewari/stats306-winter2021/raw/main/homeworks/HW2/Rplot2.jpeg)"
      ]
    },
    {
      "cell_type": "code",
      "metadata": {
        "id": "H3qWqnX1XRWF",
        "colab": {
          "base_uri": "https://localhost:8080/",
          "height": 437
        },
        "outputId": "531d98ce-64e3-4664-833b-bbfae553df2d"
      },
      "source": [
        "ggplot(data = mpg) +\n",
        " geom_bar(mapping = aes(x= class, fill = drv), position = \"fill\")"
      ],
      "execution_count": null,
      "outputs": [
        {
          "output_type": "display_data",
          "data": {
            "image/png": "[encoded data removed]",
            "text/plain": [
              "plot without title"
            ]
          },
          "metadata": {
            "tags": [],
            "image/png": {
              "width": 420,
              "height": 420
            }
          }
        }
      ]
    },
    {
      "cell_type": "markdown",
      "metadata": {
        "id": "YFySCcd0XRWF"
      },
      "source": [
        "**(4)** Write the `ggplot` command to produce the following plot using data from the `mpg` tibble. _1 point_\n",
        "![title](https://github.com/ambujtewari/stats306-winter2021/raw/main/homeworks/HW2/Rplot3.jpeg)"
      ]
    },
    {
      "cell_type": "code",
      "metadata": {
        "id": "mPQqNK6iXRWG",
        "colab": {
          "base_uri": "https://localhost:8080/",
          "height": 437
        },
        "outputId": "2b37bacd-743a-4782-e134-122741f258c6"
      },
      "source": [
        "ggplot(data = mpg) + \n",
        "  geom_point(mapping = aes(x = cty, y = hwy, color = \"red\"), position = \"jitter\")"
      ],
      "execution_count": null,
      "outputs": [
        {
          "output_type": "display_data",
          "data": {
            "image/png": "[encoded data removed]",
            "text/plain": [
              "plot without title"
            ]
          },
          "metadata": {
            "tags": [],
            "image/png": {
              "width": 420,
              "height": 420
            }
          }
        }
      ]
    },
    {
      "cell_type": "markdown",
      "metadata": {
        "id": "d8Oa7FORXRWG"
      },
      "source": [
        "### Problem 2, _5 points_"
      ]
    },
    {
      "cell_type": "markdown",
      "metadata": {
        "id": "f_0r9qoOXRWG"
      },
      "source": [
        "**(1)** Charlie wants all rows from the `mpg` tibble that have `hwy` values between 20 and 30 (inclusive). He types the command `filter(mpg, 20 <= hwy <= 30)` and gets an error. Why? Type the correct command for Charlie. _2 points_"
      ]
    },
    {
      "cell_type": "markdown",
      "metadata": {
        "id": "njBxyeD5XRWG"
      },
      "source": [
        "The error was made in the \"20 <= hwy <= 30\", there needs to be a seperation because in this case we need to use the second and subsequent arguments to filter the data frame. "
      ]
    },
    {
      "cell_type": "code",
      "metadata": {
        "id": "xmjBKzCVXRWG",
        "colab": {
          "base_uri": "https://localhost:8080/",
          "height": 1000
        },
        "outputId": "f841e58e-75b7-4372-a936-1df0e83cb74d"
      },
      "source": [
        "hwy20_30 <- filter(mpg, 20 <= hwy, hwy <= 30)\n",
        "hwy20_30"
      ],
      "execution_count": null,
      "outputs": [
        {
          "output_type": "display_data",
          "data": {
            "text/plain": [
              "    manufacturer model              displ year cyl trans      drv cty hwy fl\n",
              "1   audi         a4                 1.8   1999 4   auto(l5)   f   18  29  p \n",
              "2   audi         a4                 1.8   1999 4   manual(m5) f   21  29  p \n",
              "3   audi         a4                 2.0   2008 4   auto(av)   f   21  30  p \n",
              "4   audi         a4                 2.8   1999 6   auto(l5)   f   16  26  p \n",
              "5   audi         a4                 2.8   1999 6   manual(m5) f   18  26  p \n",
              "6   audi         a4                 3.1   2008 6   auto(av)   f   18  27  p \n",
              "7   audi         a4 quattro         1.8   1999 4   manual(m5) 4   18  26  p \n",
              "8   audi         a4 quattro         1.8   1999 4   auto(l5)   4   16  25  p \n",
              "9   audi         a4 quattro         2.0   2008 4   manual(m6) 4   20  28  p \n",
              "10  audi         a4 quattro         2.0   2008 4   auto(s6)   4   19  27  p \n",
              "11  audi         a4 quattro         2.8   1999 6   auto(l5)   4   15  25  p \n",
              "12  audi         a4 quattro         2.8   1999 6   manual(m5) 4   17  25  p \n",
              "13  audi         a4 quattro         3.1   2008 6   auto(s6)   4   17  25  p \n",
              "14  audi         a4 quattro         3.1   2008 6   manual(m6) 4   15  25  p \n",
              "15  audi         a6 quattro         2.8   1999 6   auto(l5)   4   15  24  p \n",
              "16  audi         a6 quattro         3.1   2008 6   auto(s6)   4   17  25  p \n",
              "17  audi         a6 quattro         4.2   2008 8   auto(s6)   4   16  23  p \n",
              "18  chevrolet    c1500 suburban 2wd 5.3   2008 8   auto(l4)   r   14  20  r \n",
              "19  chevrolet    c1500 suburban 2wd 5.3   2008 8   auto(l4)   r   14  20  r \n",
              "20  chevrolet    corvette           5.7   1999 8   manual(m6) r   16  26  p \n",
              "21  chevrolet    corvette           5.7   1999 8   auto(l4)   r   15  23  p \n",
              "22  chevrolet    corvette           6.2   2008 8   manual(m6) r   16  26  p \n",
              "23  chevrolet    corvette           6.2   2008 8   auto(s6)   r   15  25  p \n",
              "24  chevrolet    corvette           7.0   2008 8   manual(m6) r   15  24  p \n",
              "25  chevrolet    malibu             2.4   1999 4   auto(l4)   f   19  27  r \n",
              "26  chevrolet    malibu             2.4   2008 4   auto(l4)   f   22  30  r \n",
              "27  chevrolet    malibu             3.1   1999 6   auto(l4)   f   18  26  r \n",
              "28  chevrolet    malibu             3.5   2008 6   auto(l4)   f   18  29  r \n",
              "29  chevrolet    malibu             3.6   2008 6   auto(s6)   f   17  26  r \n",
              "30  dodge        caravan 2wd        2.4   1999 4   auto(l3)   f   18  24  r \n",
              "⋮   ⋮            ⋮                  ⋮     ⋮    ⋮   ⋮          ⋮   ⋮   ⋮   ⋮ \n",
              "105 toyota       camry solara       3.3   2008 6   auto(s5)   f   18  27  r \n",
              "106 toyota       corolla            1.8   1999 4   auto(l3)   f   24  30  r \n",
              "107 toyota       toyota tacoma 4wd  2.7   1999 4   manual(m5) 4   15  20  r \n",
              "108 toyota       toyota tacoma 4wd  2.7   1999 4   auto(l4)   4   16  20  r \n",
              "109 toyota       toyota tacoma 4wd  2.7   2008 4   manual(m5) 4   17  22  r \n",
              "110 toyota       toyota tacoma 4wd  4.0   2008 6   auto(l5)   4   16  20  r \n",
              "111 volkswagen   gti                2.0   1999 4   manual(m5) f   21  29  r \n",
              "112 volkswagen   gti                2.0   1999 4   auto(l4)   f   19  26  r \n",
              "113 volkswagen   gti                2.0   2008 4   manual(m6) f   21  29  p \n",
              "114 volkswagen   gti                2.0   2008 4   auto(s6)   f   22  29  p \n",
              "115 volkswagen   gti                2.8   1999 6   manual(m5) f   17  24  r \n",
              "116 volkswagen   jetta              2.0   1999 4   manual(m5) f   21  29  r \n",
              "117 volkswagen   jetta              2.0   1999 4   auto(l4)   f   19  26  r \n",
              "118 volkswagen   jetta              2.0   2008 4   auto(s6)   f   22  29  p \n",
              "119 volkswagen   jetta              2.0   2008 4   manual(m6) f   21  29  p \n",
              "120 volkswagen   jetta              2.5   2008 5   auto(s6)   f   21  29  r \n",
              "121 volkswagen   jetta              2.5   2008 5   manual(m5) f   21  29  r \n",
              "122 volkswagen   jetta              2.8   1999 6   auto(l4)   f   16  23  r \n",
              "123 volkswagen   jetta              2.8   1999 6   manual(m5) f   17  24  r \n",
              "124 volkswagen   new beetle         2.0   1999 4   manual(m5) f   21  29  r \n",
              "125 volkswagen   new beetle         2.0   1999 4   auto(l4)   f   19  26  r \n",
              "126 volkswagen   new beetle         2.5   2008 5   manual(m5) f   20  28  r \n",
              "127 volkswagen   new beetle         2.5   2008 5   auto(s6)   f   20  29  r \n",
              "128 volkswagen   passat             1.8   1999 4   manual(m5) f   21  29  p \n",
              "129 volkswagen   passat             1.8   1999 4   auto(l5)   f   18  29  p \n",
              "130 volkswagen   passat             2.0   2008 4   auto(s6)   f   19  28  p \n",
              "131 volkswagen   passat             2.0   2008 4   manual(m6) f   21  29  p \n",
              "132 volkswagen   passat             2.8   1999 6   auto(l5)   f   16  26  p \n",
              "133 volkswagen   passat             2.8   1999 6   manual(m5) f   18  26  p \n",
              "134 volkswagen   passat             3.6   2008 6   auto(s6)   f   17  26  p \n",
              "    class     \n",
              "1   compact   \n",
              "2   compact   \n",
              "3   compact   \n",
              "4   compact   \n",
              "5   compact   \n",
              "6   compact   \n",
              "7   compact   \n",
              "8   compact   \n",
              "9   compact   \n",
              "10  compact   \n",
              "11  compact   \n",
              "12  compact   \n",
              "13  compact   \n",
              "14  compact   \n",
              "15  midsize   \n",
              "16  midsize   \n",
              "17  midsize   \n",
              "18  suv       \n",
              "19  suv       \n",
              "20  2seater   \n",
              "21  2seater   \n",
              "22  2seater   \n",
              "23  2seater   \n",
              "24  2seater   \n",
              "25  midsize   \n",
              "26  midsize   \n",
              "27  midsize   \n",
              "28  midsize   \n",
              "29  midsize   \n",
              "30  minivan   \n",
              "⋮   ⋮         \n",
              "105 compact   \n",
              "106 compact   \n",
              "107 pickup    \n",
              "108 pickup    \n",
              "109 pickup    \n",
              "110 pickup    \n",
              "111 compact   \n",
              "112 compact   \n",
              "113 compact   \n",
              "114 compact   \n",
              "115 compact   \n",
              "116 compact   \n",
              "117 compact   \n",
              "118 compact   \n",
              "119 compact   \n",
              "120 compact   \n",
              "121 compact   \n",
              "122 compact   \n",
              "123 compact   \n",
              "124 subcompact\n",
              "125 subcompact\n",
              "126 subcompact\n",
              "127 subcompact\n",
              "128 midsize   \n",
              "129 midsize   \n",
              "130 midsize   \n",
              "131 midsize   \n",
              "132 midsize   \n",
              "133 midsize   \n",
              "134 midsize   "
            ],
            "text/latex": "A tibble: 134 × 11\n\\begin{tabular}{lllllllllll}\n manufacturer & model & displ & year & cyl & trans & drv & cty & hwy & fl & class\\\\\n <chr> & <chr> & <dbl> & <int> & <int> & <chr> & <chr> & <int> & <int> & <chr> & <chr>\\\\\n\\hline\n\t audi      & a4                 & 1.8 & 1999 & 4 & auto(l5)   & f & 18 & 29 & p & compact\\\\\n\t audi      & a4                 & 1.8 & 1999 & 4 & manual(m5) & f & 21 & 29 & p & compact\\\\\n\t audi      & a4                 & 2.0 & 2008 & 4 & auto(av)   & f & 21 & 30 & p & compact\\\\\n\t audi      & a4                 & 2.8 & 1999 & 6 & auto(l5)   & f & 16 & 26 & p & compact\\\\\n\t audi      & a4                 & 2.8 & 1999 & 6 & manual(m5) & f & 18 & 26 & p & compact\\\\\n\t audi      & a4                 & 3.1 & 2008 & 6 & auto(av)   & f & 18 & 27 & p & compact\\\\\n\t audi      & a4 quattro         & 1.8 & 1999 & 4 & manual(m5) & 4 & 18 & 26 & p & compact\\\\\n\t audi      & a4 quattro         & 1.8 & 1999 & 4 & auto(l5)   & 4 & 16 & 25 & p & compact\\\\\n\t audi      & a4 quattro         & 2.0 & 2008 & 4 & manual(m6) & 4 & 20 & 28 & p & compact\\\\\n\t audi      & a4 quattro         & 2.0 & 2008 & 4 & auto(s6)   & 4 & 19 & 27 & p & compact\\\\\n\t audi      & a4 quattro         & 2.8 & 1999 & 6 & auto(l5)   & 4 & 15 & 25 & p & compact\\\\\n\t audi      & a4 quattro         & 2.8 & 1999 & 6 & manual(m5) & 4 & 17 & 25 & p & compact\\\\\n\t audi      & a4 quattro         & 3.1 & 2008 & 6 & auto(s6)   & 4 & 17 & 25 & p & compact\\\\\n\t audi      & a4 quattro         & 3.1 & 2008 & 6 & manual(m6) & 4 & 15 & 25 & p & compact\\\\\n\t audi      & a6 quattro         & 2.8 & 1999 & 6 & auto(l5)   & 4 & 15 & 24 & p & midsize\\\\\n\t audi      & a6 quattro         & 3.1 & 2008 & 6 & auto(s6)   & 4 & 17 & 25 & p & midsize\\\\\n\t audi      & a6 quattro         & 4.2 & 2008 & 8 & auto(s6)   & 4 & 16 & 23 & p & midsize\\\\\n\t chevrolet & c1500 suburban 2wd & 5.3 & 2008 & 8 & auto(l4)   & r & 14 & 20 & r & suv    \\\\\n\t chevrolet & c1500 suburban 2wd & 5.3 & 2008 & 8 & auto(l4)   & r & 14 & 20 & r & suv    \\\\\n\t chevrolet & corvette           & 5.7 & 1999 & 8 & manual(m6) & r & 16 & 26 & p & 2seater\\\\\n\t chevrolet & corvette           & 5.7 & 1999 & 8 & auto(l4)   & r & 15 & 23 & p & 2seater\\\\\n\t chevrolet & corvette           & 6.2 & 2008 & 8 & manual(m6) & r & 16 & 26 & p & 2seater\\\\\n\t chevrolet & corvette           & 6.2 & 2008 & 8 & auto(s6)   & r & 15 & 25 & p & 2seater\\\\\n\t chevrolet & corvette           & 7.0 & 2008 & 8 & manual(m6) & r & 15 & 24 & p & 2seater\\\\\n\t chevrolet & malibu             & 2.4 & 1999 & 4 & auto(l4)   & f & 19 & 27 & r & midsize\\\\\n\t chevrolet & malibu             & 2.4 & 2008 & 4 & auto(l4)   & f & 22 & 30 & r & midsize\\\\\n\t chevrolet & malibu             & 3.1 & 1999 & 6 & auto(l4)   & f & 18 & 26 & r & midsize\\\\\n\t chevrolet & malibu             & 3.5 & 2008 & 6 & auto(l4)   & f & 18 & 29 & r & midsize\\\\\n\t chevrolet & malibu             & 3.6 & 2008 & 6 & auto(s6)   & f & 17 & 26 & r & midsize\\\\\n\t dodge     & caravan 2wd        & 2.4 & 1999 & 4 & auto(l3)   & f & 18 & 24 & r & minivan\\\\\n\t ⋮ & ⋮ & ⋮ & ⋮ & ⋮ & ⋮ & ⋮ & ⋮ & ⋮ & ⋮ & ⋮\\\\\n\t toyota     & camry solara      & 3.3 & 2008 & 6 & auto(s5)   & f & 18 & 27 & r & compact   \\\\\n\t toyota     & corolla           & 1.8 & 1999 & 4 & auto(l3)   & f & 24 & 30 & r & compact   \\\\\n\t toyota     & toyota tacoma 4wd & 2.7 & 1999 & 4 & manual(m5) & 4 & 15 & 20 & r & pickup    \\\\\n\t toyota     & toyota tacoma 4wd & 2.7 & 1999 & 4 & auto(l4)   & 4 & 16 & 20 & r & pickup    \\\\\n\t toyota     & toyota tacoma 4wd & 2.7 & 2008 & 4 & manual(m5) & 4 & 17 & 22 & r & pickup    \\\\\n\t toyota     & toyota tacoma 4wd & 4.0 & 2008 & 6 & auto(l5)   & 4 & 16 & 20 & r & pickup    \\\\\n\t volkswagen & gti               & 2.0 & 1999 & 4 & manual(m5) & f & 21 & 29 & r & compact   \\\\\n\t volkswagen & gti               & 2.0 & 1999 & 4 & auto(l4)   & f & 19 & 26 & r & compact   \\\\\n\t volkswagen & gti               & 2.0 & 2008 & 4 & manual(m6) & f & 21 & 29 & p & compact   \\\\\n\t volkswagen & gti               & 2.0 & 2008 & 4 & auto(s6)   & f & 22 & 29 & p & compact   \\\\\n\t volkswagen & gti               & 2.8 & 1999 & 6 & manual(m5) & f & 17 & 24 & r & compact   \\\\\n\t volkswagen & jetta             & 2.0 & 1999 & 4 & manual(m5) & f & 21 & 29 & r & compact   \\\\\n\t volkswagen & jetta             & 2.0 & 1999 & 4 & auto(l4)   & f & 19 & 26 & r & compact   \\\\\n\t volkswagen & jetta             & 2.0 & 2008 & 4 & auto(s6)   & f & 22 & 29 & p & compact   \\\\\n\t volkswagen & jetta             & 2.0 & 2008 & 4 & manual(m6) & f & 21 & 29 & p & compact   \\\\\n\t volkswagen & jetta             & 2.5 & 2008 & 5 & auto(s6)   & f & 21 & 29 & r & compact   \\\\\n\t volkswagen & jetta             & 2.5 & 2008 & 5 & manual(m5) & f & 21 & 29 & r & compact   \\\\\n\t volkswagen & jetta             & 2.8 & 1999 & 6 & auto(l4)   & f & 16 & 23 & r & compact   \\\\\n\t volkswagen & jetta             & 2.8 & 1999 & 6 & manual(m5) & f & 17 & 24 & r & compact   \\\\\n\t volkswagen & new beetle        & 2.0 & 1999 & 4 & manual(m5) & f & 21 & 29 & r & subcompact\\\\\n\t volkswagen & new beetle        & 2.0 & 1999 & 4 & auto(l4)   & f & 19 & 26 & r & subcompact\\\\\n\t volkswagen & new beetle        & 2.5 & 2008 & 5 & manual(m5) & f & 20 & 28 & r & subcompact\\\\\n\t volkswagen & new beetle        & 2.5 & 2008 & 5 & auto(s6)   & f & 20 & 29 & r & subcompact\\\\\n\t volkswagen & passat            & 1.8 & 1999 & 4 & manual(m5) & f & 21 & 29 & p & midsize   \\\\\n\t volkswagen & passat            & 1.8 & 1999 & 4 & auto(l5)   & f & 18 & 29 & p & midsize   \\\\\n\t volkswagen & passat            & 2.0 & 2008 & 4 & auto(s6)   & f & 19 & 28 & p & midsize   \\\\\n\t volkswagen & passat            & 2.0 & 2008 & 4 & manual(m6) & f & 21 & 29 & p & midsize   \\\\\n\t volkswagen & passat            & 2.8 & 1999 & 6 & auto(l5)   & f & 16 & 26 & p & midsize   \\\\\n\t volkswagen & passat            & 2.8 & 1999 & 6 & manual(m5) & f & 18 & 26 & p & midsize   \\\\\n\t volkswagen & passat            & 3.6 & 2008 & 6 & auto(s6)   & f & 17 & 26 & p & midsize   \\\\\n\\end{tabular}\n",
            "text/markdown": "\nA tibble: 134 × 11\n\n| manufacturer &lt;chr&gt; | model &lt;chr&gt; | displ &lt;dbl&gt; | year &lt;int&gt; | cyl &lt;int&gt; | trans &lt;chr&gt; | drv &lt;chr&gt; | cty &lt;int&gt; | hwy &lt;int&gt; | fl &lt;chr&gt; | class &lt;chr&gt; |\n|---|---|---|---|---|---|---|---|---|---|---|\n| audi      | a4                 | 1.8 | 1999 | 4 | auto(l5)   | f | 18 | 29 | p | compact |\n| audi      | a4                 | 1.8 | 1999 | 4 | manual(m5) | f | 21 | 29 | p | compact |\n| audi      | a4                 | 2.0 | 2008 | 4 | auto(av)   | f | 21 | 30 | p | compact |\n| audi      | a4                 | 2.8 | 1999 | 6 | auto(l5)   | f | 16 | 26 | p | compact |\n| audi      | a4                 | 2.8 | 1999 | 6 | manual(m5) | f | 18 | 26 | p | compact |\n| audi      | a4                 | 3.1 | 2008 | 6 | auto(av)   | f | 18 | 27 | p | compact |\n| audi      | a4 quattro         | 1.8 | 1999 | 4 | manual(m5) | 4 | 18 | 26 | p | compact |\n| audi      | a4 quattro         | 1.8 | 1999 | 4 | auto(l5)   | 4 | 16 | 25 | p | compact |\n| audi      | a4 quattro         | 2.0 | 2008 | 4 | manual(m6) | 4 | 20 | 28 | p | compact |\n| audi      | a4 quattro         | 2.0 | 2008 | 4 | auto(s6)   | 4 | 19 | 27 | p | compact |\n| audi      | a4 quattro         | 2.8 | 1999 | 6 | auto(l5)   | 4 | 15 | 25 | p | compact |\n| audi      | a4 quattro         | 2.8 | 1999 | 6 | manual(m5) | 4 | 17 | 25 | p | compact |\n| audi      | a4 quattro         | 3.1 | 2008 | 6 | auto(s6)   | 4 | 17 | 25 | p | compact |\n| audi      | a4 quattro         | 3.1 | 2008 | 6 | manual(m6) | 4 | 15 | 25 | p | compact |\n| audi      | a6 quattro         | 2.8 | 1999 | 6 | auto(l5)   | 4 | 15 | 24 | p | midsize |\n| audi      | a6 quattro         | 3.1 | 2008 | 6 | auto(s6)   | 4 | 17 | 25 | p | midsize |\n| audi      | a6 quattro         | 4.2 | 2008 | 8 | auto(s6)   | 4 | 16 | 23 | p | midsize |\n| chevrolet | c1500 suburban 2wd | 5.3 | 2008 | 8 | auto(l4)   | r | 14 | 20 | r | suv     |\n| chevrolet | c1500 suburban 2wd | 5.3 | 2008 | 8 | auto(l4)   | r | 14 | 20 | r | suv     |\n| chevrolet | corvette           | 5.7 | 1999 | 8 | manual(m6) | r | 16 | 26 | p | 2seater |\n| chevrolet | corvette           | 5.7 | 1999 | 8 | auto(l4)   | r | 15 | 23 | p | 2seater |\n| chevrolet | corvette           | 6.2 | 2008 | 8 | manual(m6) | r | 16 | 26 | p | 2seater |\n| chevrolet | corvette           | 6.2 | 2008 | 8 | auto(s6)   | r | 15 | 25 | p | 2seater |\n| chevrolet | corvette           | 7.0 | 2008 | 8 | manual(m6) | r | 15 | 24 | p | 2seater |\n| chevrolet | malibu             | 2.4 | 1999 | 4 | auto(l4)   | f | 19 | 27 | r | midsize |\n| chevrolet | malibu             | 2.4 | 2008 | 4 | auto(l4)   | f | 22 | 30 | r | midsize |\n| chevrolet | malibu             | 3.1 | 1999 | 6 | auto(l4)   | f | 18 | 26 | r | midsize |\n| chevrolet | malibu             | 3.5 | 2008 | 6 | auto(l4)   | f | 18 | 29 | r | midsize |\n| chevrolet | malibu             | 3.6 | 2008 | 6 | auto(s6)   | f | 17 | 26 | r | midsize |\n| dodge     | caravan 2wd        | 2.4 | 1999 | 4 | auto(l3)   | f | 18 | 24 | r | minivan |\n| ⋮ | ⋮ | ⋮ | ⋮ | ⋮ | ⋮ | ⋮ | ⋮ | ⋮ | ⋮ | ⋮ |\n| toyota     | camry solara      | 3.3 | 2008 | 6 | auto(s5)   | f | 18 | 27 | r | compact    |\n| toyota     | corolla           | 1.8 | 1999 | 4 | auto(l3)   | f | 24 | 30 | r | compact    |\n| toyota     | toyota tacoma 4wd | 2.7 | 1999 | 4 | manual(m5) | 4 | 15 | 20 | r | pickup     |\n| toyota     | toyota tacoma 4wd | 2.7 | 1999 | 4 | auto(l4)   | 4 | 16 | 20 | r | pickup     |\n| toyota     | toyota tacoma 4wd | 2.7 | 2008 | 4 | manual(m5) | 4 | 17 | 22 | r | pickup     |\n| toyota     | toyota tacoma 4wd | 4.0 | 2008 | 6 | auto(l5)   | 4 | 16 | 20 | r | pickup     |\n| volkswagen | gti               | 2.0 | 1999 | 4 | manual(m5) | f | 21 | 29 | r | compact    |\n| volkswagen | gti               | 2.0 | 1999 | 4 | auto(l4)   | f | 19 | 26 | r | compact    |\n| volkswagen | gti               | 2.0 | 2008 | 4 | manual(m6) | f | 21 | 29 | p | compact    |\n| volkswagen | gti               | 2.0 | 2008 | 4 | auto(s6)   | f | 22 | 29 | p | compact    |\n| volkswagen | gti               | 2.8 | 1999 | 6 | manual(m5) | f | 17 | 24 | r | compact    |\n| volkswagen | jetta             | 2.0 | 1999 | 4 | manual(m5) | f | 21 | 29 | r | compact    |\n| volkswagen | jetta             | 2.0 | 1999 | 4 | auto(l4)   | f | 19 | 26 | r | compact    |\n| volkswagen | jetta             | 2.0 | 2008 | 4 | auto(s6)   | f | 22 | 29 | p | compact    |\n| volkswagen | jetta             | 2.0 | 2008 | 4 | manual(m6) | f | 21 | 29 | p | compact    |\n| volkswagen | jetta             | 2.5 | 2008 | 5 | auto(s6)   | f | 21 | 29 | r | compact    |\n| volkswagen | jetta             | 2.5 | 2008 | 5 | manual(m5) | f | 21 | 29 | r | compact    |\n| volkswagen | jetta             | 2.8 | 1999 | 6 | auto(l4)   | f | 16 | 23 | r | compact    |\n| volkswagen | jetta             | 2.8 | 1999 | 6 | manual(m5) | f | 17 | 24 | r | compact    |\n| volkswagen | new beetle        | 2.0 | 1999 | 4 | manual(m5) | f | 21 | 29 | r | subcompact |\n| volkswagen | new beetle        | 2.0 | 1999 | 4 | auto(l4)   | f | 19 | 26 | r | subcompact |\n| volkswagen | new beetle        | 2.5 | 2008 | 5 | manual(m5) | f | 20 | 28 | r | subcompact |\n| volkswagen | new beetle        | 2.5 | 2008 | 5 | auto(s6)   | f | 20 | 29 | r | subcompact |\n| volkswagen | passat            | 1.8 | 1999 | 4 | manual(m5) | f | 21 | 29 | p | midsize    |\n| volkswagen | passat            | 1.8 | 1999 | 4 | auto(l5)   | f | 18 | 29 | p | midsize    |\n| volkswagen | passat            | 2.0 | 2008 | 4 | auto(s6)   | f | 19 | 28 | p | midsize    |\n| volkswagen | passat            | 2.0 | 2008 | 4 | manual(m6) | f | 21 | 29 | p | midsize    |\n| volkswagen | passat            | 2.8 | 1999 | 6 | auto(l5)   | f | 16 | 26 | p | midsize    |\n| volkswagen | passat            | 2.8 | 1999 | 6 | manual(m5) | f | 18 | 26 | p | midsize    |\n| volkswagen | passat            | 3.6 | 2008 | 6 | auto(s6)   | f | 17 | 26 | p | midsize    |\n\n",
            "text/html": [
              "<table class=\"dataframe\">\n",
              "<caption>A tibble: 134 × 11</caption>\n",
              "<thead>\n",
              "\t<tr><th scope=col>manufacturer</th><th scope=col>model</th><th scope=col>displ</th><th scope=col>year</th><th scope=col>cyl</th><th scope=col>trans</th><th scope=col>drv</th><th scope=col>cty</th><th scope=col>hwy</th><th scope=col>fl</th><th scope=col>class</th></tr>\n",
              "\t<tr><th scope=col>&lt;chr&gt;</th><th scope=col>&lt;chr&gt;</th><th scope=col>&lt;dbl&gt;</th><th scope=col>&lt;int&gt;</th><th scope=col>&lt;int&gt;</th><th scope=col>&lt;chr&gt;</th><th scope=col>&lt;chr&gt;</th><th scope=col>&lt;int&gt;</th><th scope=col>&lt;int&gt;</th><th scope=col>&lt;chr&gt;</th><th scope=col>&lt;chr&gt;</th></tr>\n",
              "</thead>\n",
              "<tbody>\n",
              "\t<tr><td>audi     </td><td>a4                </td><td>1.8</td><td>1999</td><td>4</td><td>auto(l5)  </td><td>f</td><td>18</td><td>29</td><td>p</td><td>compact</td></tr>\n",
              "\t<tr><td>audi     </td><td>a4                </td><td>1.8</td><td>1999</td><td>4</td><td>manual(m5)</td><td>f</td><td>21</td><td>29</td><td>p</td><td>compact</td></tr>\n",
              "\t<tr><td>audi     </td><td>a4                </td><td>2.0</td><td>2008</td><td>4</td><td>auto(av)  </td><td>f</td><td>21</td><td>30</td><td>p</td><td>compact</td></tr>\n",
              "\t<tr><td>audi     </td><td>a4                </td><td>2.8</td><td>1999</td><td>6</td><td>auto(l5)  </td><td>f</td><td>16</td><td>26</td><td>p</td><td>compact</td></tr>\n",
              "\t<tr><td>audi     </td><td>a4                </td><td>2.8</td><td>1999</td><td>6</td><td>manual(m5)</td><td>f</td><td>18</td><td>26</td><td>p</td><td>compact</td></tr>\n",
              "\t<tr><td>audi     </td><td>a4                </td><td>3.1</td><td>2008</td><td>6</td><td>auto(av)  </td><td>f</td><td>18</td><td>27</td><td>p</td><td>compact</td></tr>\n",
              "\t<tr><td>audi     </td><td>a4 quattro        </td><td>1.8</td><td>1999</td><td>4</td><td>manual(m5)</td><td>4</td><td>18</td><td>26</td><td>p</td><td>compact</td></tr>\n",
              "\t<tr><td>audi     </td><td>a4 quattro        </td><td>1.8</td><td>1999</td><td>4</td><td>auto(l5)  </td><td>4</td><td>16</td><td>25</td><td>p</td><td>compact</td></tr>\n",
              "\t<tr><td>audi     </td><td>a4 quattro        </td><td>2.0</td><td>2008</td><td>4</td><td>manual(m6)</td><td>4</td><td>20</td><td>28</td><td>p</td><td>compact</td></tr>\n",
              "\t<tr><td>audi     </td><td>a4 quattro        </td><td>2.0</td><td>2008</td><td>4</td><td>auto(s6)  </td><td>4</td><td>19</td><td>27</td><td>p</td><td>compact</td></tr>\n",
              "\t<tr><td>audi     </td><td>a4 quattro        </td><td>2.8</td><td>1999</td><td>6</td><td>auto(l5)  </td><td>4</td><td>15</td><td>25</td><td>p</td><td>compact</td></tr>\n",
              "\t<tr><td>audi     </td><td>a4 quattro        </td><td>2.8</td><td>1999</td><td>6</td><td>manual(m5)</td><td>4</td><td>17</td><td>25</td><td>p</td><td>compact</td></tr>\n",
              "\t<tr><td>audi     </td><td>a4 quattro        </td><td>3.1</td><td>2008</td><td>6</td><td>auto(s6)  </td><td>4</td><td>17</td><td>25</td><td>p</td><td>compact</td></tr>\n",
              "\t<tr><td>audi     </td><td>a4 quattro        </td><td>3.1</td><td>2008</td><td>6</td><td>manual(m6)</td><td>4</td><td>15</td><td>25</td><td>p</td><td>compact</td></tr>\n",
              "\t<tr><td>audi     </td><td>a6 quattro        </td><td>2.8</td><td>1999</td><td>6</td><td>auto(l5)  </td><td>4</td><td>15</td><td>24</td><td>p</td><td>midsize</td></tr>\n",
              "\t<tr><td>audi     </td><td>a6 quattro        </td><td>3.1</td><td>2008</td><td>6</td><td>auto(s6)  </td><td>4</td><td>17</td><td>25</td><td>p</td><td>midsize</td></tr>\n",
              "\t<tr><td>audi     </td><td>a6 quattro        </td><td>4.2</td><td>2008</td><td>8</td><td>auto(s6)  </td><td>4</td><td>16</td><td>23</td><td>p</td><td>midsize</td></tr>\n",
              "\t<tr><td>chevrolet</td><td>c1500 suburban 2wd</td><td>5.3</td><td>2008</td><td>8</td><td>auto(l4)  </td><td>r</td><td>14</td><td>20</td><td>r</td><td>suv    </td></tr>\n",
              "\t<tr><td>chevrolet</td><td>c1500 suburban 2wd</td><td>5.3</td><td>2008</td><td>8</td><td>auto(l4)  </td><td>r</td><td>14</td><td>20</td><td>r</td><td>suv    </td></tr>\n",
              "\t<tr><td>chevrolet</td><td>corvette          </td><td>5.7</td><td>1999</td><td>8</td><td>manual(m6)</td><td>r</td><td>16</td><td>26</td><td>p</td><td>2seater</td></tr>\n",
              "\t<tr><td>chevrolet</td><td>corvette          </td><td>5.7</td><td>1999</td><td>8</td><td>auto(l4)  </td><td>r</td><td>15</td><td>23</td><td>p</td><td>2seater</td></tr>\n",
              "\t<tr><td>chevrolet</td><td>corvette          </td><td>6.2</td><td>2008</td><td>8</td><td>manual(m6)</td><td>r</td><td>16</td><td>26</td><td>p</td><td>2seater</td></tr>\n",
              "\t<tr><td>chevrolet</td><td>corvette          </td><td>6.2</td><td>2008</td><td>8</td><td>auto(s6)  </td><td>r</td><td>15</td><td>25</td><td>p</td><td>2seater</td></tr>\n",
              "\t<tr><td>chevrolet</td><td>corvette          </td><td>7.0</td><td>2008</td><td>8</td><td>manual(m6)</td><td>r</td><td>15</td><td>24</td><td>p</td><td>2seater</td></tr>\n",
              "\t<tr><td>chevrolet</td><td>malibu            </td><td>2.4</td><td>1999</td><td>4</td><td>auto(l4)  </td><td>f</td><td>19</td><td>27</td><td>r</td><td>midsize</td></tr>\n",
              "\t<tr><td>chevrolet</td><td>malibu            </td><td>2.4</td><td>2008</td><td>4</td><td>auto(l4)  </td><td>f</td><td>22</td><td>30</td><td>r</td><td>midsize</td></tr>\n",
              "\t<tr><td>chevrolet</td><td>malibu            </td><td>3.1</td><td>1999</td><td>6</td><td>auto(l4)  </td><td>f</td><td>18</td><td>26</td><td>r</td><td>midsize</td></tr>\n",
              "\t<tr><td>chevrolet</td><td>malibu            </td><td>3.5</td><td>2008</td><td>6</td><td>auto(l4)  </td><td>f</td><td>18</td><td>29</td><td>r</td><td>midsize</td></tr>\n",
              "\t<tr><td>chevrolet</td><td>malibu            </td><td>3.6</td><td>2008</td><td>6</td><td>auto(s6)  </td><td>f</td><td>17</td><td>26</td><td>r</td><td>midsize</td></tr>\n",
              "\t<tr><td>dodge    </td><td>caravan 2wd       </td><td>2.4</td><td>1999</td><td>4</td><td>auto(l3)  </td><td>f</td><td>18</td><td>24</td><td>r</td><td>minivan</td></tr>\n",
              "\t<tr><td>⋮</td><td>⋮</td><td>⋮</td><td>⋮</td><td>⋮</td><td>⋮</td><td>⋮</td><td>⋮</td><td>⋮</td><td>⋮</td><td>⋮</td></tr>\n",
              "\t<tr><td>toyota    </td><td>camry solara     </td><td>3.3</td><td>2008</td><td>6</td><td>auto(s5)  </td><td>f</td><td>18</td><td>27</td><td>r</td><td>compact   </td></tr>\n",
              "\t<tr><td>toyota    </td><td>corolla          </td><td>1.8</td><td>1999</td><td>4</td><td>auto(l3)  </td><td>f</td><td>24</td><td>30</td><td>r</td><td>compact   </td></tr>\n",
              "\t<tr><td>toyota    </td><td>toyota tacoma 4wd</td><td>2.7</td><td>1999</td><td>4</td><td>manual(m5)</td><td>4</td><td>15</td><td>20</td><td>r</td><td>pickup    </td></tr>\n",
              "\t<tr><td>toyota    </td><td>toyota tacoma 4wd</td><td>2.7</td><td>1999</td><td>4</td><td>auto(l4)  </td><td>4</td><td>16</td><td>20</td><td>r</td><td>pickup    </td></tr>\n",
              "\t<tr><td>toyota    </td><td>toyota tacoma 4wd</td><td>2.7</td><td>2008</td><td>4</td><td>manual(m5)</td><td>4</td><td>17</td><td>22</td><td>r</td><td>pickup    </td></tr>\n",
              "\t<tr><td>toyota    </td><td>toyota tacoma 4wd</td><td>4.0</td><td>2008</td><td>6</td><td>auto(l5)  </td><td>4</td><td>16</td><td>20</td><td>r</td><td>pickup    </td></tr>\n",
              "\t<tr><td>volkswagen</td><td>gti              </td><td>2.0</td><td>1999</td><td>4</td><td>manual(m5)</td><td>f</td><td>21</td><td>29</td><td>r</td><td>compact   </td></tr>\n",
              "\t<tr><td>volkswagen</td><td>gti              </td><td>2.0</td><td>1999</td><td>4</td><td>auto(l4)  </td><td>f</td><td>19</td><td>26</td><td>r</td><td>compact   </td></tr>\n",
              "\t<tr><td>volkswagen</td><td>gti              </td><td>2.0</td><td>2008</td><td>4</td><td>manual(m6)</td><td>f</td><td>21</td><td>29</td><td>p</td><td>compact   </td></tr>\n",
              "\t<tr><td>volkswagen</td><td>gti              </td><td>2.0</td><td>2008</td><td>4</td><td>auto(s6)  </td><td>f</td><td>22</td><td>29</td><td>p</td><td>compact   </td></tr>\n",
              "\t<tr><td>volkswagen</td><td>gti              </td><td>2.8</td><td>1999</td><td>6</td><td>manual(m5)</td><td>f</td><td>17</td><td>24</td><td>r</td><td>compact   </td></tr>\n",
              "\t<tr><td>volkswagen</td><td>jetta            </td><td>2.0</td><td>1999</td><td>4</td><td>manual(m5)</td><td>f</td><td>21</td><td>29</td><td>r</td><td>compact   </td></tr>\n",
              "\t<tr><td>volkswagen</td><td>jetta            </td><td>2.0</td><td>1999</td><td>4</td><td>auto(l4)  </td><td>f</td><td>19</td><td>26</td><td>r</td><td>compact   </td></tr>\n",
              "\t<tr><td>volkswagen</td><td>jetta            </td><td>2.0</td><td>2008</td><td>4</td><td>auto(s6)  </td><td>f</td><td>22</td><td>29</td><td>p</td><td>compact   </td></tr>\n",
              "\t<tr><td>volkswagen</td><td>jetta            </td><td>2.0</td><td>2008</td><td>4</td><td>manual(m6)</td><td>f</td><td>21</td><td>29</td><td>p</td><td>compact   </td></tr>\n",
              "\t<tr><td>volkswagen</td><td>jetta            </td><td>2.5</td><td>2008</td><td>5</td><td>auto(s6)  </td><td>f</td><td>21</td><td>29</td><td>r</td><td>compact   </td></tr>\n",
              "\t<tr><td>volkswagen</td><td>jetta            </td><td>2.5</td><td>2008</td><td>5</td><td>manual(m5)</td><td>f</td><td>21</td><td>29</td><td>r</td><td>compact   </td></tr>\n",
              "\t<tr><td>volkswagen</td><td>jetta            </td><td>2.8</td><td>1999</td><td>6</td><td>auto(l4)  </td><td>f</td><td>16</td><td>23</td><td>r</td><td>compact   </td></tr>\n",
              "\t<tr><td>volkswagen</td><td>jetta            </td><td>2.8</td><td>1999</td><td>6</td><td>manual(m5)</td><td>f</td><td>17</td><td>24</td><td>r</td><td>compact   </td></tr>\n",
              "\t<tr><td>volkswagen</td><td>new beetle       </td><td>2.0</td><td>1999</td><td>4</td><td>manual(m5)</td><td>f</td><td>21</td><td>29</td><td>r</td><td>subcompact</td></tr>\n",
              "\t<tr><td>volkswagen</td><td>new beetle       </td><td>2.0</td><td>1999</td><td>4</td><td>auto(l4)  </td><td>f</td><td>19</td><td>26</td><td>r</td><td>subcompact</td></tr>\n",
              "\t<tr><td>volkswagen</td><td>new beetle       </td><td>2.5</td><td>2008</td><td>5</td><td>manual(m5)</td><td>f</td><td>20</td><td>28</td><td>r</td><td>subcompact</td></tr>\n",
              "\t<tr><td>volkswagen</td><td>new beetle       </td><td>2.5</td><td>2008</td><td>5</td><td>auto(s6)  </td><td>f</td><td>20</td><td>29</td><td>r</td><td>subcompact</td></tr>\n",
              "\t<tr><td>volkswagen</td><td>passat           </td><td>1.8</td><td>1999</td><td>4</td><td>manual(m5)</td><td>f</td><td>21</td><td>29</td><td>p</td><td>midsize   </td></tr>\n",
              "\t<tr><td>volkswagen</td><td>passat           </td><td>1.8</td><td>1999</td><td>4</td><td>auto(l5)  </td><td>f</td><td>18</td><td>29</td><td>p</td><td>midsize   </td></tr>\n",
              "\t<tr><td>volkswagen</td><td>passat           </td><td>2.0</td><td>2008</td><td>4</td><td>auto(s6)  </td><td>f</td><td>19</td><td>28</td><td>p</td><td>midsize   </td></tr>\n",
              "\t<tr><td>volkswagen</td><td>passat           </td><td>2.0</td><td>2008</td><td>4</td><td>manual(m6)</td><td>f</td><td>21</td><td>29</td><td>p</td><td>midsize   </td></tr>\n",
              "\t<tr><td>volkswagen</td><td>passat           </td><td>2.8</td><td>1999</td><td>6</td><td>auto(l5)  </td><td>f</td><td>16</td><td>26</td><td>p</td><td>midsize   </td></tr>\n",
              "\t<tr><td>volkswagen</td><td>passat           </td><td>2.8</td><td>1999</td><td>6</td><td>manual(m5)</td><td>f</td><td>18</td><td>26</td><td>p</td><td>midsize   </td></tr>\n",
              "\t<tr><td>volkswagen</td><td>passat           </td><td>3.6</td><td>2008</td><td>6</td><td>auto(s6)  </td><td>f</td><td>17</td><td>26</td><td>p</td><td>midsize   </td></tr>\n",
              "</tbody>\n",
              "</table>\n"
            ]
          },
          "metadata": {
            "tags": []
          }
        }
      ]
    },
    {
      "cell_type": "markdown",
      "metadata": {
        "id": "nnnBpZ1CXRWH"
      },
      "source": [
        "**(2)** Where does `arrange` place missing values? _1 point_"
      ]
    },
    {
      "cell_type": "markdown",
      "metadata": {
        "id": "wShY82j4XRWH"
      },
      "source": [
        "missing values are always sorted at the end when using arrange. "
      ]
    },
    {
      "cell_type": "markdown",
      "metadata": {
        "id": "O7r3XWE6XRWH"
      },
      "source": [
        "**(3)** Write the command to rename the columns `cyl`, `drv`, `cty`, and `hwy` to `cylinders`, `drive`, `city` and `highway` respectively. _2 points_"
      ]
    },
    {
      "cell_type": "code",
      "metadata": {
        "id": "_TYfdZplXRWH",
        "colab": {
          "base_uri": "https://localhost:8080/",
          "height": 1000
        },
        "outputId": "77b44df9-de2d-4cc9-f0cb-ce803216f59f"
      },
      "source": [
        "rename(mpg, cylinders = cyl, drive = drv, city = cty, highway = hwy)"
      ],
      "execution_count": null,
      "outputs": [
        {
          "output_type": "display_data",
          "data": {
            "text/plain": [
              "    manufacturer model              displ year cylinders trans      drive city\n",
              "1   audi         a4                 1.8   1999 4         auto(l5)   f     18  \n",
              "2   audi         a4                 1.8   1999 4         manual(m5) f     21  \n",
              "3   audi         a4                 2.0   2008 4         manual(m6) f     20  \n",
              "4   audi         a4                 2.0   2008 4         auto(av)   f     21  \n",
              "5   audi         a4                 2.8   1999 6         auto(l5)   f     16  \n",
              "6   audi         a4                 2.8   1999 6         manual(m5) f     18  \n",
              "7   audi         a4                 3.1   2008 6         auto(av)   f     18  \n",
              "8   audi         a4 quattro         1.8   1999 4         manual(m5) 4     18  \n",
              "9   audi         a4 quattro         1.8   1999 4         auto(l5)   4     16  \n",
              "10  audi         a4 quattro         2.0   2008 4         manual(m6) 4     20  \n",
              "11  audi         a4 quattro         2.0   2008 4         auto(s6)   4     19  \n",
              "12  audi         a4 quattro         2.8   1999 6         auto(l5)   4     15  \n",
              "13  audi         a4 quattro         2.8   1999 6         manual(m5) 4     17  \n",
              "14  audi         a4 quattro         3.1   2008 6         auto(s6)   4     17  \n",
              "15  audi         a4 quattro         3.1   2008 6         manual(m6) 4     15  \n",
              "16  audi         a6 quattro         2.8   1999 6         auto(l5)   4     15  \n",
              "17  audi         a6 quattro         3.1   2008 6         auto(s6)   4     17  \n",
              "18  audi         a6 quattro         4.2   2008 8         auto(s6)   4     16  \n",
              "19  chevrolet    c1500 suburban 2wd 5.3   2008 8         auto(l4)   r     14  \n",
              "20  chevrolet    c1500 suburban 2wd 5.3   2008 8         auto(l4)   r     11  \n",
              "21  chevrolet    c1500 suburban 2wd 5.3   2008 8         auto(l4)   r     14  \n",
              "22  chevrolet    c1500 suburban 2wd 5.7   1999 8         auto(l4)   r     13  \n",
              "23  chevrolet    c1500 suburban 2wd 6.0   2008 8         auto(l4)   r     12  \n",
              "24  chevrolet    corvette           5.7   1999 8         manual(m6) r     16  \n",
              "25  chevrolet    corvette           5.7   1999 8         auto(l4)   r     15  \n",
              "26  chevrolet    corvette           6.2   2008 8         manual(m6) r     16  \n",
              "27  chevrolet    corvette           6.2   2008 8         auto(s6)   r     15  \n",
              "28  chevrolet    corvette           7.0   2008 8         manual(m6) r     15  \n",
              "29  chevrolet    k1500 tahoe 4wd    5.3   2008 8         auto(l4)   4     14  \n",
              "30  chevrolet    k1500 tahoe 4wd    5.3   2008 8         auto(l4)   4     11  \n",
              "⋮   ⋮            ⋮                  ⋮     ⋮    ⋮         ⋮          ⋮     ⋮   \n",
              "205 toyota       toyota tacoma 4wd  3.4   1999 6         auto(l4)   4     15  \n",
              "206 toyota       toyota tacoma 4wd  4.0   2008 6         manual(m6) 4     15  \n",
              "207 toyota       toyota tacoma 4wd  4.0   2008 6         auto(l5)   4     16  \n",
              "208 volkswagen   gti                2.0   1999 4         manual(m5) f     21  \n",
              "209 volkswagen   gti                2.0   1999 4         auto(l4)   f     19  \n",
              "210 volkswagen   gti                2.0   2008 4         manual(m6) f     21  \n",
              "211 volkswagen   gti                2.0   2008 4         auto(s6)   f     22  \n",
              "212 volkswagen   gti                2.8   1999 6         manual(m5) f     17  \n",
              "213 volkswagen   jetta              1.9   1999 4         manual(m5) f     33  \n",
              "214 volkswagen   jetta              2.0   1999 4         manual(m5) f     21  \n",
              "215 volkswagen   jetta              2.0   1999 4         auto(l4)   f     19  \n",
              "216 volkswagen   jetta              2.0   2008 4         auto(s6)   f     22  \n",
              "217 volkswagen   jetta              2.0   2008 4         manual(m6) f     21  \n",
              "218 volkswagen   jetta              2.5   2008 5         auto(s6)   f     21  \n",
              "219 volkswagen   jetta              2.5   2008 5         manual(m5) f     21  \n",
              "220 volkswagen   jetta              2.8   1999 6         auto(l4)   f     16  \n",
              "221 volkswagen   jetta              2.8   1999 6         manual(m5) f     17  \n",
              "222 volkswagen   new beetle         1.9   1999 4         manual(m5) f     35  \n",
              "223 volkswagen   new beetle         1.9   1999 4         auto(l4)   f     29  \n",
              "224 volkswagen   new beetle         2.0   1999 4         manual(m5) f     21  \n",
              "225 volkswagen   new beetle         2.0   1999 4         auto(l4)   f     19  \n",
              "226 volkswagen   new beetle         2.5   2008 5         manual(m5) f     20  \n",
              "227 volkswagen   new beetle         2.5   2008 5         auto(s6)   f     20  \n",
              "228 volkswagen   passat             1.8   1999 4         manual(m5) f     21  \n",
              "229 volkswagen   passat             1.8   1999 4         auto(l5)   f     18  \n",
              "230 volkswagen   passat             2.0   2008 4         auto(s6)   f     19  \n",
              "231 volkswagen   passat             2.0   2008 4         manual(m6) f     21  \n",
              "232 volkswagen   passat             2.8   1999 6         auto(l5)   f     16  \n",
              "233 volkswagen   passat             2.8   1999 6         manual(m5) f     18  \n",
              "234 volkswagen   passat             3.6   2008 6         auto(s6)   f     17  \n",
              "    highway fl class     \n",
              "1   29      p  compact   \n",
              "2   29      p  compact   \n",
              "3   31      p  compact   \n",
              "4   30      p  compact   \n",
              "5   26      p  compact   \n",
              "6   26      p  compact   \n",
              "7   27      p  compact   \n",
              "8   26      p  compact   \n",
              "9   25      p  compact   \n",
              "10  28      p  compact   \n",
              "11  27      p  compact   \n",
              "12  25      p  compact   \n",
              "13  25      p  compact   \n",
              "14  25      p  compact   \n",
              "15  25      p  compact   \n",
              "16  24      p  midsize   \n",
              "17  25      p  midsize   \n",
              "18  23      p  midsize   \n",
              "19  20      r  suv       \n",
              "20  15      e  suv       \n",
              "21  20      r  suv       \n",
              "22  17      r  suv       \n",
              "23  17      r  suv       \n",
              "24  26      p  2seater   \n",
              "25  23      p  2seater   \n",
              "26  26      p  2seater   \n",
              "27  25      p  2seater   \n",
              "28  24      p  2seater   \n",
              "29  19      r  suv       \n",
              "30  14      e  suv       \n",
              "⋮   ⋮       ⋮  ⋮         \n",
              "205 19      r  pickup    \n",
              "206 18      r  pickup    \n",
              "207 20      r  pickup    \n",
              "208 29      r  compact   \n",
              "209 26      r  compact   \n",
              "210 29      p  compact   \n",
              "211 29      p  compact   \n",
              "212 24      r  compact   \n",
              "213 44      d  compact   \n",
              "214 29      r  compact   \n",
              "215 26      r  compact   \n",
              "216 29      p  compact   \n",
              "217 29      p  compact   \n",
              "218 29      r  compact   \n",
              "219 29      r  compact   \n",
              "220 23      r  compact   \n",
              "221 24      r  compact   \n",
              "222 44      d  subcompact\n",
              "223 41      d  subcompact\n",
              "224 29      r  subcompact\n",
              "225 26      r  subcompact\n",
              "226 28      r  subcompact\n",
              "227 29      r  subcompact\n",
              "228 29      p  midsize   \n",
              "229 29      p  midsize   \n",
              "230 28      p  midsize   \n",
              "231 29      p  midsize   \n",
              "232 26      p  midsize   \n",
              "233 26      p  midsize   \n",
              "234 26      p  midsize   "
            ],
            "text/latex": "A tibble: 234 × 11\n\\begin{tabular}{lllllllllll}\n manufacturer & model & displ & year & cylinders & trans & drive & city & highway & fl & class\\\\\n <chr> & <chr> & <dbl> & <int> & <int> & <chr> & <chr> & <int> & <int> & <chr> & <chr>\\\\\n\\hline\n\t audi      & a4                 & 1.8 & 1999 & 4 & auto(l5)   & f & 18 & 29 & p & compact\\\\\n\t audi      & a4                 & 1.8 & 1999 & 4 & manual(m5) & f & 21 & 29 & p & compact\\\\\n\t audi      & a4                 & 2.0 & 2008 & 4 & manual(m6) & f & 20 & 31 & p & compact\\\\\n\t audi      & a4                 & 2.0 & 2008 & 4 & auto(av)   & f & 21 & 30 & p & compact\\\\\n\t audi      & a4                 & 2.8 & 1999 & 6 & auto(l5)   & f & 16 & 26 & p & compact\\\\\n\t audi      & a4                 & 2.8 & 1999 & 6 & manual(m5) & f & 18 & 26 & p & compact\\\\\n\t audi      & a4                 & 3.1 & 2008 & 6 & auto(av)   & f & 18 & 27 & p & compact\\\\\n\t audi      & a4 quattro         & 1.8 & 1999 & 4 & manual(m5) & 4 & 18 & 26 & p & compact\\\\\n\t audi      & a4 quattro         & 1.8 & 1999 & 4 & auto(l5)   & 4 & 16 & 25 & p & compact\\\\\n\t audi      & a4 quattro         & 2.0 & 2008 & 4 & manual(m6) & 4 & 20 & 28 & p & compact\\\\\n\t audi      & a4 quattro         & 2.0 & 2008 & 4 & auto(s6)   & 4 & 19 & 27 & p & compact\\\\\n\t audi      & a4 quattro         & 2.8 & 1999 & 6 & auto(l5)   & 4 & 15 & 25 & p & compact\\\\\n\t audi      & a4 quattro         & 2.8 & 1999 & 6 & manual(m5) & 4 & 17 & 25 & p & compact\\\\\n\t audi      & a4 quattro         & 3.1 & 2008 & 6 & auto(s6)   & 4 & 17 & 25 & p & compact\\\\\n\t audi      & a4 quattro         & 3.1 & 2008 & 6 & manual(m6) & 4 & 15 & 25 & p & compact\\\\\n\t audi      & a6 quattro         & 2.8 & 1999 & 6 & auto(l5)   & 4 & 15 & 24 & p & midsize\\\\\n\t audi      & a6 quattro         & 3.1 & 2008 & 6 & auto(s6)   & 4 & 17 & 25 & p & midsize\\\\\n\t audi      & a6 quattro         & 4.2 & 2008 & 8 & auto(s6)   & 4 & 16 & 23 & p & midsize\\\\\n\t chevrolet & c1500 suburban 2wd & 5.3 & 2008 & 8 & auto(l4)   & r & 14 & 20 & r & suv    \\\\\n\t chevrolet & c1500 suburban 2wd & 5.3 & 2008 & 8 & auto(l4)   & r & 11 & 15 & e & suv    \\\\\n\t chevrolet & c1500 suburban 2wd & 5.3 & 2008 & 8 & auto(l4)   & r & 14 & 20 & r & suv    \\\\\n\t chevrolet & c1500 suburban 2wd & 5.7 & 1999 & 8 & auto(l4)   & r & 13 & 17 & r & suv    \\\\\n\t chevrolet & c1500 suburban 2wd & 6.0 & 2008 & 8 & auto(l4)   & r & 12 & 17 & r & suv    \\\\\n\t chevrolet & corvette           & 5.7 & 1999 & 8 & manual(m6) & r & 16 & 26 & p & 2seater\\\\\n\t chevrolet & corvette           & 5.7 & 1999 & 8 & auto(l4)   & r & 15 & 23 & p & 2seater\\\\\n\t chevrolet & corvette           & 6.2 & 2008 & 8 & manual(m6) & r & 16 & 26 & p & 2seater\\\\\n\t chevrolet & corvette           & 6.2 & 2008 & 8 & auto(s6)   & r & 15 & 25 & p & 2seater\\\\\n\t chevrolet & corvette           & 7.0 & 2008 & 8 & manual(m6) & r & 15 & 24 & p & 2seater\\\\\n\t chevrolet & k1500 tahoe 4wd    & 5.3 & 2008 & 8 & auto(l4)   & 4 & 14 & 19 & r & suv    \\\\\n\t chevrolet & k1500 tahoe 4wd    & 5.3 & 2008 & 8 & auto(l4)   & 4 & 11 & 14 & e & suv    \\\\\n\t ⋮ & ⋮ & ⋮ & ⋮ & ⋮ & ⋮ & ⋮ & ⋮ & ⋮ & ⋮ & ⋮\\\\\n\t toyota     & toyota tacoma 4wd & 3.4 & 1999 & 6 & auto(l4)   & 4 & 15 & 19 & r & pickup    \\\\\n\t toyota     & toyota tacoma 4wd & 4.0 & 2008 & 6 & manual(m6) & 4 & 15 & 18 & r & pickup    \\\\\n\t toyota     & toyota tacoma 4wd & 4.0 & 2008 & 6 & auto(l5)   & 4 & 16 & 20 & r & pickup    \\\\\n\t volkswagen & gti               & 2.0 & 1999 & 4 & manual(m5) & f & 21 & 29 & r & compact   \\\\\n\t volkswagen & gti               & 2.0 & 1999 & 4 & auto(l4)   & f & 19 & 26 & r & compact   \\\\\n\t volkswagen & gti               & 2.0 & 2008 & 4 & manual(m6) & f & 21 & 29 & p & compact   \\\\\n\t volkswagen & gti               & 2.0 & 2008 & 4 & auto(s6)   & f & 22 & 29 & p & compact   \\\\\n\t volkswagen & gti               & 2.8 & 1999 & 6 & manual(m5) & f & 17 & 24 & r & compact   \\\\\n\t volkswagen & jetta             & 1.9 & 1999 & 4 & manual(m5) & f & 33 & 44 & d & compact   \\\\\n\t volkswagen & jetta             & 2.0 & 1999 & 4 & manual(m5) & f & 21 & 29 & r & compact   \\\\\n\t volkswagen & jetta             & 2.0 & 1999 & 4 & auto(l4)   & f & 19 & 26 & r & compact   \\\\\n\t volkswagen & jetta             & 2.0 & 2008 & 4 & auto(s6)   & f & 22 & 29 & p & compact   \\\\\n\t volkswagen & jetta             & 2.0 & 2008 & 4 & manual(m6) & f & 21 & 29 & p & compact   \\\\\n\t volkswagen & jetta             & 2.5 & 2008 & 5 & auto(s6)   & f & 21 & 29 & r & compact   \\\\\n\t volkswagen & jetta             & 2.5 & 2008 & 5 & manual(m5) & f & 21 & 29 & r & compact   \\\\\n\t volkswagen & jetta             & 2.8 & 1999 & 6 & auto(l4)   & f & 16 & 23 & r & compact   \\\\\n\t volkswagen & jetta             & 2.8 & 1999 & 6 & manual(m5) & f & 17 & 24 & r & compact   \\\\\n\t volkswagen & new beetle        & 1.9 & 1999 & 4 & manual(m5) & f & 35 & 44 & d & subcompact\\\\\n\t volkswagen & new beetle        & 1.9 & 1999 & 4 & auto(l4)   & f & 29 & 41 & d & subcompact\\\\\n\t volkswagen & new beetle        & 2.0 & 1999 & 4 & manual(m5) & f & 21 & 29 & r & subcompact\\\\\n\t volkswagen & new beetle        & 2.0 & 1999 & 4 & auto(l4)   & f & 19 & 26 & r & subcompact\\\\\n\t volkswagen & new beetle        & 2.5 & 2008 & 5 & manual(m5) & f & 20 & 28 & r & subcompact\\\\\n\t volkswagen & new beetle        & 2.5 & 2008 & 5 & auto(s6)   & f & 20 & 29 & r & subcompact\\\\\n\t volkswagen & passat            & 1.8 & 1999 & 4 & manual(m5) & f & 21 & 29 & p & midsize   \\\\\n\t volkswagen & passat            & 1.8 & 1999 & 4 & auto(l5)   & f & 18 & 29 & p & midsize   \\\\\n\t volkswagen & passat            & 2.0 & 2008 & 4 & auto(s6)   & f & 19 & 28 & p & midsize   \\\\\n\t volkswagen & passat            & 2.0 & 2008 & 4 & manual(m6) & f & 21 & 29 & p & midsize   \\\\\n\t volkswagen & passat            & 2.8 & 1999 & 6 & auto(l5)   & f & 16 & 26 & p & midsize   \\\\\n\t volkswagen & passat            & 2.8 & 1999 & 6 & manual(m5) & f & 18 & 26 & p & midsize   \\\\\n\t volkswagen & passat            & 3.6 & 2008 & 6 & auto(s6)   & f & 17 & 26 & p & midsize   \\\\\n\\end{tabular}\n",
            "text/markdown": "\nA tibble: 234 × 11\n\n| manufacturer &lt;chr&gt; | model &lt;chr&gt; | displ &lt;dbl&gt; | year &lt;int&gt; | cylinders &lt;int&gt; | trans &lt;chr&gt; | drive &lt;chr&gt; | city &lt;int&gt; | highway &lt;int&gt; | fl &lt;chr&gt; | class &lt;chr&gt; |\n|---|---|---|---|---|---|---|---|---|---|---|\n| audi      | a4                 | 1.8 | 1999 | 4 | auto(l5)   | f | 18 | 29 | p | compact |\n| audi      | a4                 | 1.8 | 1999 | 4 | manual(m5) | f | 21 | 29 | p | compact |\n| audi      | a4                 | 2.0 | 2008 | 4 | manual(m6) | f | 20 | 31 | p | compact |\n| audi      | a4                 | 2.0 | 2008 | 4 | auto(av)   | f | 21 | 30 | p | compact |\n| audi      | a4                 | 2.8 | 1999 | 6 | auto(l5)   | f | 16 | 26 | p | compact |\n| audi      | a4                 | 2.8 | 1999 | 6 | manual(m5) | f | 18 | 26 | p | compact |\n| audi      | a4                 | 3.1 | 2008 | 6 | auto(av)   | f | 18 | 27 | p | compact |\n| audi      | a4 quattro         | 1.8 | 1999 | 4 | manual(m5) | 4 | 18 | 26 | p | compact |\n| audi      | a4 quattro         | 1.8 | 1999 | 4 | auto(l5)   | 4 | 16 | 25 | p | compact |\n| audi      | a4 quattro         | 2.0 | 2008 | 4 | manual(m6) | 4 | 20 | 28 | p | compact |\n| audi      | a4 quattro         | 2.0 | 2008 | 4 | auto(s6)   | 4 | 19 | 27 | p | compact |\n| audi      | a4 quattro         | 2.8 | 1999 | 6 | auto(l5)   | 4 | 15 | 25 | p | compact |\n| audi      | a4 quattro         | 2.8 | 1999 | 6 | manual(m5) | 4 | 17 | 25 | p | compact |\n| audi      | a4 quattro         | 3.1 | 2008 | 6 | auto(s6)   | 4 | 17 | 25 | p | compact |\n| audi      | a4 quattro         | 3.1 | 2008 | 6 | manual(m6) | 4 | 15 | 25 | p | compact |\n| audi      | a6 quattro         | 2.8 | 1999 | 6 | auto(l5)   | 4 | 15 | 24 | p | midsize |\n| audi      | a6 quattro         | 3.1 | 2008 | 6 | auto(s6)   | 4 | 17 | 25 | p | midsize |\n| audi      | a6 quattro         | 4.2 | 2008 | 8 | auto(s6)   | 4 | 16 | 23 | p | midsize |\n| chevrolet | c1500 suburban 2wd | 5.3 | 2008 | 8 | auto(l4)   | r | 14 | 20 | r | suv     |\n| chevrolet | c1500 suburban 2wd | 5.3 | 2008 | 8 | auto(l4)   | r | 11 | 15 | e | suv     |\n| chevrolet | c1500 suburban 2wd | 5.3 | 2008 | 8 | auto(l4)   | r | 14 | 20 | r | suv     |\n| chevrolet | c1500 suburban 2wd | 5.7 | 1999 | 8 | auto(l4)   | r | 13 | 17 | r | suv     |\n| chevrolet | c1500 suburban 2wd | 6.0 | 2008 | 8 | auto(l4)   | r | 12 | 17 | r | suv     |\n| chevrolet | corvette           | 5.7 | 1999 | 8 | manual(m6) | r | 16 | 26 | p | 2seater |\n| chevrolet | corvette           | 5.7 | 1999 | 8 | auto(l4)   | r | 15 | 23 | p | 2seater |\n| chevrolet | corvette           | 6.2 | 2008 | 8 | manual(m6) | r | 16 | 26 | p | 2seater |\n| chevrolet | corvette           | 6.2 | 2008 | 8 | auto(s6)   | r | 15 | 25 | p | 2seater |\n| chevrolet | corvette           | 7.0 | 2008 | 8 | manual(m6) | r | 15 | 24 | p | 2seater |\n| chevrolet | k1500 tahoe 4wd    | 5.3 | 2008 | 8 | auto(l4)   | 4 | 14 | 19 | r | suv     |\n| chevrolet | k1500 tahoe 4wd    | 5.3 | 2008 | 8 | auto(l4)   | 4 | 11 | 14 | e | suv     |\n| ⋮ | ⋮ | ⋮ | ⋮ | ⋮ | ⋮ | ⋮ | ⋮ | ⋮ | ⋮ | ⋮ |\n| toyota     | toyota tacoma 4wd | 3.4 | 1999 | 6 | auto(l4)   | 4 | 15 | 19 | r | pickup     |\n| toyota     | toyota tacoma 4wd | 4.0 | 2008 | 6 | manual(m6) | 4 | 15 | 18 | r | pickup     |\n| toyota     | toyota tacoma 4wd | 4.0 | 2008 | 6 | auto(l5)   | 4 | 16 | 20 | r | pickup     |\n| volkswagen | gti               | 2.0 | 1999 | 4 | manual(m5) | f | 21 | 29 | r | compact    |\n| volkswagen | gti               | 2.0 | 1999 | 4 | auto(l4)   | f | 19 | 26 | r | compact    |\n| volkswagen | gti               | 2.0 | 2008 | 4 | manual(m6) | f | 21 | 29 | p | compact    |\n| volkswagen | gti               | 2.0 | 2008 | 4 | auto(s6)   | f | 22 | 29 | p | compact    |\n| volkswagen | gti               | 2.8 | 1999 | 6 | manual(m5) | f | 17 | 24 | r | compact    |\n| volkswagen | jetta             | 1.9 | 1999 | 4 | manual(m5) | f | 33 | 44 | d | compact    |\n| volkswagen | jetta             | 2.0 | 1999 | 4 | manual(m5) | f | 21 | 29 | r | compact    |\n| volkswagen | jetta             | 2.0 | 1999 | 4 | auto(l4)   | f | 19 | 26 | r | compact    |\n| volkswagen | jetta             | 2.0 | 2008 | 4 | auto(s6)   | f | 22 | 29 | p | compact    |\n| volkswagen | jetta             | 2.0 | 2008 | 4 | manual(m6) | f | 21 | 29 | p | compact    |\n| volkswagen | jetta             | 2.5 | 2008 | 5 | auto(s6)   | f | 21 | 29 | r | compact    |\n| volkswagen | jetta             | 2.5 | 2008 | 5 | manual(m5) | f | 21 | 29 | r | compact    |\n| volkswagen | jetta             | 2.8 | 1999 | 6 | auto(l4)   | f | 16 | 23 | r | compact    |\n| volkswagen | jetta             | 2.8 | 1999 | 6 | manual(m5) | f | 17 | 24 | r | compact    |\n| volkswagen | new beetle        | 1.9 | 1999 | 4 | manual(m5) | f | 35 | 44 | d | subcompact |\n| volkswagen | new beetle        | 1.9 | 1999 | 4 | auto(l4)   | f | 29 | 41 | d | subcompact |\n| volkswagen | new beetle        | 2.0 | 1999 | 4 | manual(m5) | f | 21 | 29 | r | subcompact |\n| volkswagen | new beetle        | 2.0 | 1999 | 4 | auto(l4)   | f | 19 | 26 | r | subcompact |\n| volkswagen | new beetle        | 2.5 | 2008 | 5 | manual(m5) | f | 20 | 28 | r | subcompact |\n| volkswagen | new beetle        | 2.5 | 2008 | 5 | auto(s6)   | f | 20 | 29 | r | subcompact |\n| volkswagen | passat            | 1.8 | 1999 | 4 | manual(m5) | f | 21 | 29 | p | midsize    |\n| volkswagen | passat            | 1.8 | 1999 | 4 | auto(l5)   | f | 18 | 29 | p | midsize    |\n| volkswagen | passat            | 2.0 | 2008 | 4 | auto(s6)   | f | 19 | 28 | p | midsize    |\n| volkswagen | passat            | 2.0 | 2008 | 4 | manual(m6) | f | 21 | 29 | p | midsize    |\n| volkswagen | passat            | 2.8 | 1999 | 6 | auto(l5)   | f | 16 | 26 | p | midsize    |\n| volkswagen | passat            | 2.8 | 1999 | 6 | manual(m5) | f | 18 | 26 | p | midsize    |\n| volkswagen | passat            | 3.6 | 2008 | 6 | auto(s6)   | f | 17 | 26 | p | midsize    |\n\n",
            "text/html": [
              "<table class=\"dataframe\">\n",
              "<caption>A tibble: 234 × 11</caption>\n",
              "<thead>\n",
              "\t<tr><th scope=col>manufacturer</th><th scope=col>model</th><th scope=col>displ</th><th scope=col>year</th><th scope=col>cylinders</th><th scope=col>trans</th><th scope=col>drive</th><th scope=col>city</th><th scope=col>highway</th><th scope=col>fl</th><th scope=col>class</th></tr>\n",
              "\t<tr><th scope=col>&lt;chr&gt;</th><th scope=col>&lt;chr&gt;</th><th scope=col>&lt;dbl&gt;</th><th scope=col>&lt;int&gt;</th><th scope=col>&lt;int&gt;</th><th scope=col>&lt;chr&gt;</th><th scope=col>&lt;chr&gt;</th><th scope=col>&lt;int&gt;</th><th scope=col>&lt;int&gt;</th><th scope=col>&lt;chr&gt;</th><th scope=col>&lt;chr&gt;</th></tr>\n",
              "</thead>\n",
              "<tbody>\n",
              "\t<tr><td>audi     </td><td>a4                </td><td>1.8</td><td>1999</td><td>4</td><td>auto(l5)  </td><td>f</td><td>18</td><td>29</td><td>p</td><td>compact</td></tr>\n",
              "\t<tr><td>audi     </td><td>a4                </td><td>1.8</td><td>1999</td><td>4</td><td>manual(m5)</td><td>f</td><td>21</td><td>29</td><td>p</td><td>compact</td></tr>\n",
              "\t<tr><td>audi     </td><td>a4                </td><td>2.0</td><td>2008</td><td>4</td><td>manual(m6)</td><td>f</td><td>20</td><td>31</td><td>p</td><td>compact</td></tr>\n",
              "\t<tr><td>audi     </td><td>a4                </td><td>2.0</td><td>2008</td><td>4</td><td>auto(av)  </td><td>f</td><td>21</td><td>30</td><td>p</td><td>compact</td></tr>\n",
              "\t<tr><td>audi     </td><td>a4                </td><td>2.8</td><td>1999</td><td>6</td><td>auto(l5)  </td><td>f</td><td>16</td><td>26</td><td>p</td><td>compact</td></tr>\n",
              "\t<tr><td>audi     </td><td>a4                </td><td>2.8</td><td>1999</td><td>6</td><td>manual(m5)</td><td>f</td><td>18</td><td>26</td><td>p</td><td>compact</td></tr>\n",
              "\t<tr><td>audi     </td><td>a4                </td><td>3.1</td><td>2008</td><td>6</td><td>auto(av)  </td><td>f</td><td>18</td><td>27</td><td>p</td><td>compact</td></tr>\n",
              "\t<tr><td>audi     </td><td>a4 quattro        </td><td>1.8</td><td>1999</td><td>4</td><td>manual(m5)</td><td>4</td><td>18</td><td>26</td><td>p</td><td>compact</td></tr>\n",
              "\t<tr><td>audi     </td><td>a4 quattro        </td><td>1.8</td><td>1999</td><td>4</td><td>auto(l5)  </td><td>4</td><td>16</td><td>25</td><td>p</td><td>compact</td></tr>\n",
              "\t<tr><td>audi     </td><td>a4 quattro        </td><td>2.0</td><td>2008</td><td>4</td><td>manual(m6)</td><td>4</td><td>20</td><td>28</td><td>p</td><td>compact</td></tr>\n",
              "\t<tr><td>audi     </td><td>a4 quattro        </td><td>2.0</td><td>2008</td><td>4</td><td>auto(s6)  </td><td>4</td><td>19</td><td>27</td><td>p</td><td>compact</td></tr>\n",
              "\t<tr><td>audi     </td><td>a4 quattro        </td><td>2.8</td><td>1999</td><td>6</td><td>auto(l5)  </td><td>4</td><td>15</td><td>25</td><td>p</td><td>compact</td></tr>\n",
              "\t<tr><td>audi     </td><td>a4 quattro        </td><td>2.8</td><td>1999</td><td>6</td><td>manual(m5)</td><td>4</td><td>17</td><td>25</td><td>p</td><td>compact</td></tr>\n",
              "\t<tr><td>audi     </td><td>a4 quattro        </td><td>3.1</td><td>2008</td><td>6</td><td>auto(s6)  </td><td>4</td><td>17</td><td>25</td><td>p</td><td>compact</td></tr>\n",
              "\t<tr><td>audi     </td><td>a4 quattro        </td><td>3.1</td><td>2008</td><td>6</td><td>manual(m6)</td><td>4</td><td>15</td><td>25</td><td>p</td><td>compact</td></tr>\n",
              "\t<tr><td>audi     </td><td>a6 quattro        </td><td>2.8</td><td>1999</td><td>6</td><td>auto(l5)  </td><td>4</td><td>15</td><td>24</td><td>p</td><td>midsize</td></tr>\n",
              "\t<tr><td>audi     </td><td>a6 quattro        </td><td>3.1</td><td>2008</td><td>6</td><td>auto(s6)  </td><td>4</td><td>17</td><td>25</td><td>p</td><td>midsize</td></tr>\n",
              "\t<tr><td>audi     </td><td>a6 quattro        </td><td>4.2</td><td>2008</td><td>8</td><td>auto(s6)  </td><td>4</td><td>16</td><td>23</td><td>p</td><td>midsize</td></tr>\n",
              "\t<tr><td>chevrolet</td><td>c1500 suburban 2wd</td><td>5.3</td><td>2008</td><td>8</td><td>auto(l4)  </td><td>r</td><td>14</td><td>20</td><td>r</td><td>suv    </td></tr>\n",
              "\t<tr><td>chevrolet</td><td>c1500 suburban 2wd</td><td>5.3</td><td>2008</td><td>8</td><td>auto(l4)  </td><td>r</td><td>11</td><td>15</td><td>e</td><td>suv    </td></tr>\n",
              "\t<tr><td>chevrolet</td><td>c1500 suburban 2wd</td><td>5.3</td><td>2008</td><td>8</td><td>auto(l4)  </td><td>r</td><td>14</td><td>20</td><td>r</td><td>suv    </td></tr>\n",
              "\t<tr><td>chevrolet</td><td>c1500 suburban 2wd</td><td>5.7</td><td>1999</td><td>8</td><td>auto(l4)  </td><td>r</td><td>13</td><td>17</td><td>r</td><td>suv    </td></tr>\n",
              "\t<tr><td>chevrolet</td><td>c1500 suburban 2wd</td><td>6.0</td><td>2008</td><td>8</td><td>auto(l4)  </td><td>r</td><td>12</td><td>17</td><td>r</td><td>suv    </td></tr>\n",
              "\t<tr><td>chevrolet</td><td>corvette          </td><td>5.7</td><td>1999</td><td>8</td><td>manual(m6)</td><td>r</td><td>16</td><td>26</td><td>p</td><td>2seater</td></tr>\n",
              "\t<tr><td>chevrolet</td><td>corvette          </td><td>5.7</td><td>1999</td><td>8</td><td>auto(l4)  </td><td>r</td><td>15</td><td>23</td><td>p</td><td>2seater</td></tr>\n",
              "\t<tr><td>chevrolet</td><td>corvette          </td><td>6.2</td><td>2008</td><td>8</td><td>manual(m6)</td><td>r</td><td>16</td><td>26</td><td>p</td><td>2seater</td></tr>\n",
              "\t<tr><td>chevrolet</td><td>corvette          </td><td>6.2</td><td>2008</td><td>8</td><td>auto(s6)  </td><td>r</td><td>15</td><td>25</td><td>p</td><td>2seater</td></tr>\n",
              "\t<tr><td>chevrolet</td><td>corvette          </td><td>7.0</td><td>2008</td><td>8</td><td>manual(m6)</td><td>r</td><td>15</td><td>24</td><td>p</td><td>2seater</td></tr>\n",
              "\t<tr><td>chevrolet</td><td>k1500 tahoe 4wd   </td><td>5.3</td><td>2008</td><td>8</td><td>auto(l4)  </td><td>4</td><td>14</td><td>19</td><td>r</td><td>suv    </td></tr>\n",
              "\t<tr><td>chevrolet</td><td>k1500 tahoe 4wd   </td><td>5.3</td><td>2008</td><td>8</td><td>auto(l4)  </td><td>4</td><td>11</td><td>14</td><td>e</td><td>suv    </td></tr>\n",
              "\t<tr><td>⋮</td><td>⋮</td><td>⋮</td><td>⋮</td><td>⋮</td><td>⋮</td><td>⋮</td><td>⋮</td><td>⋮</td><td>⋮</td><td>⋮</td></tr>\n",
              "\t<tr><td>toyota    </td><td>toyota tacoma 4wd</td><td>3.4</td><td>1999</td><td>6</td><td>auto(l4)  </td><td>4</td><td>15</td><td>19</td><td>r</td><td>pickup    </td></tr>\n",
              "\t<tr><td>toyota    </td><td>toyota tacoma 4wd</td><td>4.0</td><td>2008</td><td>6</td><td>manual(m6)</td><td>4</td><td>15</td><td>18</td><td>r</td><td>pickup    </td></tr>\n",
              "\t<tr><td>toyota    </td><td>toyota tacoma 4wd</td><td>4.0</td><td>2008</td><td>6</td><td>auto(l5)  </td><td>4</td><td>16</td><td>20</td><td>r</td><td>pickup    </td></tr>\n",
              "\t<tr><td>volkswagen</td><td>gti              </td><td>2.0</td><td>1999</td><td>4</td><td>manual(m5)</td><td>f</td><td>21</td><td>29</td><td>r</td><td>compact   </td></tr>\n",
              "\t<tr><td>volkswagen</td><td>gti              </td><td>2.0</td><td>1999</td><td>4</td><td>auto(l4)  </td><td>f</td><td>19</td><td>26</td><td>r</td><td>compact   </td></tr>\n",
              "\t<tr><td>volkswagen</td><td>gti              </td><td>2.0</td><td>2008</td><td>4</td><td>manual(m6)</td><td>f</td><td>21</td><td>29</td><td>p</td><td>compact   </td></tr>\n",
              "\t<tr><td>volkswagen</td><td>gti              </td><td>2.0</td><td>2008</td><td>4</td><td>auto(s6)  </td><td>f</td><td>22</td><td>29</td><td>p</td><td>compact   </td></tr>\n",
              "\t<tr><td>volkswagen</td><td>gti              </td><td>2.8</td><td>1999</td><td>6</td><td>manual(m5)</td><td>f</td><td>17</td><td>24</td><td>r</td><td>compact   </td></tr>\n",
              "\t<tr><td>volkswagen</td><td>jetta            </td><td>1.9</td><td>1999</td><td>4</td><td>manual(m5)</td><td>f</td><td>33</td><td>44</td><td>d</td><td>compact   </td></tr>\n",
              "\t<tr><td>volkswagen</td><td>jetta            </td><td>2.0</td><td>1999</td><td>4</td><td>manual(m5)</td><td>f</td><td>21</td><td>29</td><td>r</td><td>compact   </td></tr>\n",
              "\t<tr><td>volkswagen</td><td>jetta            </td><td>2.0</td><td>1999</td><td>4</td><td>auto(l4)  </td><td>f</td><td>19</td><td>26</td><td>r</td><td>compact   </td></tr>\n",
              "\t<tr><td>volkswagen</td><td>jetta            </td><td>2.0</td><td>2008</td><td>4</td><td>auto(s6)  </td><td>f</td><td>22</td><td>29</td><td>p</td><td>compact   </td></tr>\n",
              "\t<tr><td>volkswagen</td><td>jetta            </td><td>2.0</td><td>2008</td><td>4</td><td>manual(m6)</td><td>f</td><td>21</td><td>29</td><td>p</td><td>compact   </td></tr>\n",
              "\t<tr><td>volkswagen</td><td>jetta            </td><td>2.5</td><td>2008</td><td>5</td><td>auto(s6)  </td><td>f</td><td>21</td><td>29</td><td>r</td><td>compact   </td></tr>\n",
              "\t<tr><td>volkswagen</td><td>jetta            </td><td>2.5</td><td>2008</td><td>5</td><td>manual(m5)</td><td>f</td><td>21</td><td>29</td><td>r</td><td>compact   </td></tr>\n",
              "\t<tr><td>volkswagen</td><td>jetta            </td><td>2.8</td><td>1999</td><td>6</td><td>auto(l4)  </td><td>f</td><td>16</td><td>23</td><td>r</td><td>compact   </td></tr>\n",
              "\t<tr><td>volkswagen</td><td>jetta            </td><td>2.8</td><td>1999</td><td>6</td><td>manual(m5)</td><td>f</td><td>17</td><td>24</td><td>r</td><td>compact   </td></tr>\n",
              "\t<tr><td>volkswagen</td><td>new beetle       </td><td>1.9</td><td>1999</td><td>4</td><td>manual(m5)</td><td>f</td><td>35</td><td>44</td><td>d</td><td>subcompact</td></tr>\n",
              "\t<tr><td>volkswagen</td><td>new beetle       </td><td>1.9</td><td>1999</td><td>4</td><td>auto(l4)  </td><td>f</td><td>29</td><td>41</td><td>d</td><td>subcompact</td></tr>\n",
              "\t<tr><td>volkswagen</td><td>new beetle       </td><td>2.0</td><td>1999</td><td>4</td><td>manual(m5)</td><td>f</td><td>21</td><td>29</td><td>r</td><td>subcompact</td></tr>\n",
              "\t<tr><td>volkswagen</td><td>new beetle       </td><td>2.0</td><td>1999</td><td>4</td><td>auto(l4)  </td><td>f</td><td>19</td><td>26</td><td>r</td><td>subcompact</td></tr>\n",
              "\t<tr><td>volkswagen</td><td>new beetle       </td><td>2.5</td><td>2008</td><td>5</td><td>manual(m5)</td><td>f</td><td>20</td><td>28</td><td>r</td><td>subcompact</td></tr>\n",
              "\t<tr><td>volkswagen</td><td>new beetle       </td><td>2.5</td><td>2008</td><td>5</td><td>auto(s6)  </td><td>f</td><td>20</td><td>29</td><td>r</td><td>subcompact</td></tr>\n",
              "\t<tr><td>volkswagen</td><td>passat           </td><td>1.8</td><td>1999</td><td>4</td><td>manual(m5)</td><td>f</td><td>21</td><td>29</td><td>p</td><td>midsize   </td></tr>\n",
              "\t<tr><td>volkswagen</td><td>passat           </td><td>1.8</td><td>1999</td><td>4</td><td>auto(l5)  </td><td>f</td><td>18</td><td>29</td><td>p</td><td>midsize   </td></tr>\n",
              "\t<tr><td>volkswagen</td><td>passat           </td><td>2.0</td><td>2008</td><td>4</td><td>auto(s6)  </td><td>f</td><td>19</td><td>28</td><td>p</td><td>midsize   </td></tr>\n",
              "\t<tr><td>volkswagen</td><td>passat           </td><td>2.0</td><td>2008</td><td>4</td><td>manual(m6)</td><td>f</td><td>21</td><td>29</td><td>p</td><td>midsize   </td></tr>\n",
              "\t<tr><td>volkswagen</td><td>passat           </td><td>2.8</td><td>1999</td><td>6</td><td>auto(l5)  </td><td>f</td><td>16</td><td>26</td><td>p</td><td>midsize   </td></tr>\n",
              "\t<tr><td>volkswagen</td><td>passat           </td><td>2.8</td><td>1999</td><td>6</td><td>manual(m5)</td><td>f</td><td>18</td><td>26</td><td>p</td><td>midsize   </td></tr>\n",
              "\t<tr><td>volkswagen</td><td>passat           </td><td>3.6</td><td>2008</td><td>6</td><td>auto(s6)  </td><td>f</td><td>17</td><td>26</td><td>p</td><td>midsize   </td></tr>\n",
              "</tbody>\n",
              "</table>\n"
            ]
          },
          "metadata": {
            "tags": []
          }
        }
      ]
    },
    {
      "cell_type": "markdown",
      "metadata": {
        "id": "dgC_Tg_lXRWI"
      },
      "source": [
        "### Problem 3, _5 points_"
      ]
    },
    {
      "cell_type": "markdown",
      "metadata": {
        "id": "ZzxrsYjnXRWI"
      },
      "source": [
        "**(1)** Write the code to execute the following steps using the `diamonds` data set. _4 points_\n",
        "\n",
        "- Add a new column `price_per_carat` which is the price of the diamond divided by its weight in carats\n",
        "- Sort the rows of the resulting tibble in descending order of `price_per_carat`\n",
        "- Retain only the top 1000 rows in the order above\n",
        "- For these 1000 rows, plot the distribution of `color` using a bar plot where your bars should be filled with the color `\"khaki\"`"
      ]
    },
    {
      "cell_type": "code",
      "metadata": {
        "id": "7c4gvU81XRWI",
        "colab": {
          "base_uri": "https://localhost:8080/",
          "height": 1000
        },
        "outputId": "3c691cde-4490-4359-f334-efd01bd1909b"
      },
      "source": [
        "diamonds %>% \n",
        "transmute(price_per_carat = price / carat) %>% \n",
        "head(1000) %>% arrange(desc(price_per_carat))\n",
        "ggplot(diamonds %>% head(1000)) +\n",
        "  geom_bar(mapping = aes(x = color), fill = \"khaki\")"
      ],
      "execution_count": 47,
      "outputs": [
        {
          "output_type": "display_data",
          "data": {
            "text/plain": [
              "     price_per_carat\n",
              "1    5778.000       \n",
              "2    5778.000       \n",
              "3    5556.863       \n",
              "4    5519.231       \n",
              "5    5513.725       \n",
              "6    5513.462       \n",
              "7    5484.314       \n",
              "8    5464.706       \n",
              "9    5464.151       \n",
              "10   5463.462       \n",
              "11   5396.226       \n",
              "12   5364.815       \n",
              "13   5351.923       \n",
              "14   5347.170       \n",
              "15   5342.308       \n",
              "16   5339.623       \n",
              "17   5339.623       \n",
              "18   5337.037       \n",
              "19   5322.642       \n",
              "20   5286.792       \n",
              "21   5274.074       \n",
              "22   5249.057       \n",
              "23   5140.741       \n",
              "24   5140.741       \n",
              "25   5118.182       \n",
              "26   5117.857       \n",
              "27   5117.857       \n",
              "28   5070.909       \n",
              "29   5058.929       \n",
              "30   4921.053       \n",
              "⋮    ⋮              \n",
              "971  1389.655       \n",
              "972  1350.000       \n",
              "973  1350.000       \n",
              "974  1350.000       \n",
              "975  1350.000       \n",
              "976  1350.000       \n",
              "977  1314.286       \n",
              "978  1296.774       \n",
              "979  1296.154       \n",
              "980  1290.698       \n",
              "981  1262.500       \n",
              "982  1259.375       \n",
              "983  1259.375       \n",
              "984  1259.375       \n",
              "985  1221.212       \n",
              "986  1221.212       \n",
              "987  1221.212       \n",
              "988  1190.000       \n",
              "989  1170.000       \n",
              "990  1170.000       \n",
              "991  1170.000       \n",
              "992  1170.000       \n",
              "993  1160.000       \n",
              "994  1151.724       \n",
              "995  1138.710       \n",
              "996  1138.710       \n",
              "997  1130.000       \n",
              "998  1109.677       \n",
              "999  1080.645       \n",
              "1000 1078.125       "
            ],
            "text/latex": "A tibble: 1000 × 1\n\\begin{tabular}{l}\n price\\_per\\_carat\\\\\n <dbl>\\\\\n\\hline\n\t 5778.000\\\\\n\t 5778.000\\\\\n\t 5556.863\\\\\n\t 5519.231\\\\\n\t 5513.725\\\\\n\t 5513.462\\\\\n\t 5484.314\\\\\n\t 5464.706\\\\\n\t 5464.151\\\\\n\t 5463.462\\\\\n\t 5396.226\\\\\n\t 5364.815\\\\\n\t 5351.923\\\\\n\t 5347.170\\\\\n\t 5342.308\\\\\n\t 5339.623\\\\\n\t 5339.623\\\\\n\t 5337.037\\\\\n\t 5322.642\\\\\n\t 5286.792\\\\\n\t 5274.074\\\\\n\t 5249.057\\\\\n\t 5140.741\\\\\n\t 5140.741\\\\\n\t 5118.182\\\\\n\t 5117.857\\\\\n\t 5117.857\\\\\n\t 5070.909\\\\\n\t 5058.929\\\\\n\t 4921.053\\\\\n\t ⋮\\\\\n\t 1389.655\\\\\n\t 1350.000\\\\\n\t 1350.000\\\\\n\t 1350.000\\\\\n\t 1350.000\\\\\n\t 1350.000\\\\\n\t 1314.286\\\\\n\t 1296.774\\\\\n\t 1296.154\\\\\n\t 1290.698\\\\\n\t 1262.500\\\\\n\t 1259.375\\\\\n\t 1259.375\\\\\n\t 1259.375\\\\\n\t 1221.212\\\\\n\t 1221.212\\\\\n\t 1221.212\\\\\n\t 1190.000\\\\\n\t 1170.000\\\\\n\t 1170.000\\\\\n\t 1170.000\\\\\n\t 1170.000\\\\\n\t 1160.000\\\\\n\t 1151.724\\\\\n\t 1138.710\\\\\n\t 1138.710\\\\\n\t 1130.000\\\\\n\t 1109.677\\\\\n\t 1080.645\\\\\n\t 1078.125\\\\\n\\end{tabular}\n",
            "text/markdown": "\nA tibble: 1000 × 1\n\n| price_per_carat &lt;dbl&gt; |\n|---|\n| 5778.000 |\n| 5778.000 |\n| 5556.863 |\n| 5519.231 |\n| 5513.725 |\n| 5513.462 |\n| 5484.314 |\n| 5464.706 |\n| 5464.151 |\n| 5463.462 |\n| 5396.226 |\n| 5364.815 |\n| 5351.923 |\n| 5347.170 |\n| 5342.308 |\n| 5339.623 |\n| 5339.623 |\n| 5337.037 |\n| 5322.642 |\n| 5286.792 |\n| 5274.074 |\n| 5249.057 |\n| 5140.741 |\n| 5140.741 |\n| 5118.182 |\n| 5117.857 |\n| 5117.857 |\n| 5070.909 |\n| 5058.929 |\n| 4921.053 |\n| ⋮ |\n| 1389.655 |\n| 1350.000 |\n| 1350.000 |\n| 1350.000 |\n| 1350.000 |\n| 1350.000 |\n| 1314.286 |\n| 1296.774 |\n| 1296.154 |\n| 1290.698 |\n| 1262.500 |\n| 1259.375 |\n| 1259.375 |\n| 1259.375 |\n| 1221.212 |\n| 1221.212 |\n| 1221.212 |\n| 1190.000 |\n| 1170.000 |\n| 1170.000 |\n| 1170.000 |\n| 1170.000 |\n| 1160.000 |\n| 1151.724 |\n| 1138.710 |\n| 1138.710 |\n| 1130.000 |\n| 1109.677 |\n| 1080.645 |\n| 1078.125 |\n\n",
            "text/html": [
              "<table class=\"dataframe\">\n",
              "<caption>A tibble: 1000 × 1</caption>\n",
              "<thead>\n",
              "\t<tr><th scope=col>price_per_carat</th></tr>\n",
              "\t<tr><th scope=col>&lt;dbl&gt;</th></tr>\n",
              "</thead>\n",
              "<tbody>\n",
              "\t<tr><td>5778.000</td></tr>\n",
              "\t<tr><td>5778.000</td></tr>\n",
              "\t<tr><td>5556.863</td></tr>\n",
              "\t<tr><td>5519.231</td></tr>\n",
              "\t<tr><td>5513.725</td></tr>\n",
              "\t<tr><td>5513.462</td></tr>\n",
              "\t<tr><td>5484.314</td></tr>\n",
              "\t<tr><td>5464.706</td></tr>\n",
              "\t<tr><td>5464.151</td></tr>\n",
              "\t<tr><td>5463.462</td></tr>\n",
              "\t<tr><td>5396.226</td></tr>\n",
              "\t<tr><td>5364.815</td></tr>\n",
              "\t<tr><td>5351.923</td></tr>\n",
              "\t<tr><td>5347.170</td></tr>\n",
              "\t<tr><td>5342.308</td></tr>\n",
              "\t<tr><td>5339.623</td></tr>\n",
              "\t<tr><td>5339.623</td></tr>\n",
              "\t<tr><td>5337.037</td></tr>\n",
              "\t<tr><td>5322.642</td></tr>\n",
              "\t<tr><td>5286.792</td></tr>\n",
              "\t<tr><td>5274.074</td></tr>\n",
              "\t<tr><td>5249.057</td></tr>\n",
              "\t<tr><td>5140.741</td></tr>\n",
              "\t<tr><td>5140.741</td></tr>\n",
              "\t<tr><td>5118.182</td></tr>\n",
              "\t<tr><td>5117.857</td></tr>\n",
              "\t<tr><td>5117.857</td></tr>\n",
              "\t<tr><td>5070.909</td></tr>\n",
              "\t<tr><td>5058.929</td></tr>\n",
              "\t<tr><td>4921.053</td></tr>\n",
              "\t<tr><td>⋮</td></tr>\n",
              "\t<tr><td>1389.655</td></tr>\n",
              "\t<tr><td>1350.000</td></tr>\n",
              "\t<tr><td>1350.000</td></tr>\n",
              "\t<tr><td>1350.000</td></tr>\n",
              "\t<tr><td>1350.000</td></tr>\n",
              "\t<tr><td>1350.000</td></tr>\n",
              "\t<tr><td>1314.286</td></tr>\n",
              "\t<tr><td>1296.774</td></tr>\n",
              "\t<tr><td>1296.154</td></tr>\n",
              "\t<tr><td>1290.698</td></tr>\n",
              "\t<tr><td>1262.500</td></tr>\n",
              "\t<tr><td>1259.375</td></tr>\n",
              "\t<tr><td>1259.375</td></tr>\n",
              "\t<tr><td>1259.375</td></tr>\n",
              "\t<tr><td>1221.212</td></tr>\n",
              "\t<tr><td>1221.212</td></tr>\n",
              "\t<tr><td>1221.212</td></tr>\n",
              "\t<tr><td>1190.000</td></tr>\n",
              "\t<tr><td>1170.000</td></tr>\n",
              "\t<tr><td>1170.000</td></tr>\n",
              "\t<tr><td>1170.000</td></tr>\n",
              "\t<tr><td>1170.000</td></tr>\n",
              "\t<tr><td>1160.000</td></tr>\n",
              "\t<tr><td>1151.724</td></tr>\n",
              "\t<tr><td>1138.710</td></tr>\n",
              "\t<tr><td>1138.710</td></tr>\n",
              "\t<tr><td>1130.000</td></tr>\n",
              "\t<tr><td>1109.677</td></tr>\n",
              "\t<tr><td>1080.645</td></tr>\n",
              "\t<tr><td>1078.125</td></tr>\n",
              "</tbody>\n",
              "</table>\n"
            ]
          },
          "metadata": {
            "tags": []
          }
        },
        {
          "output_type": "display_data",
          "data": {
            "image/png": "[encoded data removed]",
            "text/plain": [
              "plot without title"
            ]
          },
          "metadata": {
            "tags": [],
            "image/png": {
              "width": 420,
              "height": 420
            }
          }
        }
      ]
    },
    {
      "cell_type": "markdown",
      "metadata": {
        "id": "nfskWNiYXRWI"
      },
      "source": [
        "**(2)** The bar plot for the `color` variable for the _entire_ tibble looks as follows. What is the main difference between the bar plot below and the one you got in part **(1)** above. _1 point_\n",
        "\n",
        "![title](https://github.com/ambujtewari/stats306-winter2021/raw/main/homeworks/HW2/Rplot4.jpeg)"
      ]
    },
    {
      "cell_type": "markdown",
      "metadata": {
        "id": "xHPe9nuQXRWJ"
      },
      "source": [
        "The count for eahc bar plot is different,  bar plot above and the bar plot is in thousands going by 3000, while the bar plot from part 1 is counting by 50s and ending at 250. "
      ]
    },
    {
      "cell_type": "markdown",
      "metadata": {
        "id": "FinhV5JwXRWJ"
      },
      "source": [
        "### Problem 4, _5 points_"
      ]
    },
    {
      "cell_type": "markdown",
      "metadata": {
        "id": "FhQ2LMBzXRWJ"
      },
      "source": [
        "**(1)** Write the code to: _1.5 points_\n",
        "\n",
        "- create a tibble with two columns `manufacturer` and `mean_hwy`. The `mean_hwy` column should have the mean highway mileage of the cars they manufactured, and then\n",
        "- sort this tibble in ascending order of `mean_hwy`. "
      ]
    },
    {
      "cell_type": "code",
      "metadata": {
        "id": "WXOMZsH7XRWJ",
        "colab": {
          "base_uri": "https://localhost:8080/",
          "height": 622
        },
        "outputId": "68dfc094-07f1-4949-d171-433ca600831d"
      },
      "source": [
        "mileage <- group_by(mpg, manufacturer, mean(hwy))\n",
        "arrange(summarize(mileage, delay = mean(hwy, na.rm = TRUE)))"
      ],
      "execution_count": null,
      "outputs": [
        {
          "output_type": "stream",
          "text": [
            "`summarise()` has grouped output by 'manufacturer'. You can override using the `.groups` argument.\n",
            "\n"
          ],
          "name": "stderr"
        },
        {
          "output_type": "display_data",
          "data": {
            "text/plain": [
              "   manufacturer mean(hwy) delay   \n",
              "1  audi         23.44017  26.44444\n",
              "2  chevrolet    23.44017  21.89474\n",
              "3  dodge        23.44017  17.94595\n",
              "4  ford         23.44017  19.36000\n",
              "5  honda        23.44017  32.55556\n",
              "6  hyundai      23.44017  26.85714\n",
              "7  jeep         23.44017  17.62500\n",
              "8  land rover   23.44017  16.50000\n",
              "9  lincoln      23.44017  17.00000\n",
              "10 mercury      23.44017  18.00000\n",
              "11 nissan       23.44017  24.61538\n",
              "12 pontiac      23.44017  26.40000\n",
              "13 subaru       23.44017  25.57143\n",
              "14 toyota       23.44017  24.91176\n",
              "15 volkswagen   23.44017  29.22222"
            ],
            "text/latex": "A grouped\\_df: 15 × 3\n\\begin{tabular}{lll}\n manufacturer & mean(hwy) & delay\\\\\n <chr> & <dbl> & <dbl>\\\\\n\\hline\n\t audi       & 23.44017 & 26.44444\\\\\n\t chevrolet  & 23.44017 & 21.89474\\\\\n\t dodge      & 23.44017 & 17.94595\\\\\n\t ford       & 23.44017 & 19.36000\\\\\n\t honda      & 23.44017 & 32.55556\\\\\n\t hyundai    & 23.44017 & 26.85714\\\\\n\t jeep       & 23.44017 & 17.62500\\\\\n\t land rover & 23.44017 & 16.50000\\\\\n\t lincoln    & 23.44017 & 17.00000\\\\\n\t mercury    & 23.44017 & 18.00000\\\\\n\t nissan     & 23.44017 & 24.61538\\\\\n\t pontiac    & 23.44017 & 26.40000\\\\\n\t subaru     & 23.44017 & 25.57143\\\\\n\t toyota     & 23.44017 & 24.91176\\\\\n\t volkswagen & 23.44017 & 29.22222\\\\\n\\end{tabular}\n",
            "text/markdown": "\nA grouped_df: 15 × 3\n\n| manufacturer &lt;chr&gt; | mean(hwy) &lt;dbl&gt; | delay &lt;dbl&gt; |\n|---|---|---|\n| audi       | 23.44017 | 26.44444 |\n| chevrolet  | 23.44017 | 21.89474 |\n| dodge      | 23.44017 | 17.94595 |\n| ford       | 23.44017 | 19.36000 |\n| honda      | 23.44017 | 32.55556 |\n| hyundai    | 23.44017 | 26.85714 |\n| jeep       | 23.44017 | 17.62500 |\n| land rover | 23.44017 | 16.50000 |\n| lincoln    | 23.44017 | 17.00000 |\n| mercury    | 23.44017 | 18.00000 |\n| nissan     | 23.44017 | 24.61538 |\n| pontiac    | 23.44017 | 26.40000 |\n| subaru     | 23.44017 | 25.57143 |\n| toyota     | 23.44017 | 24.91176 |\n| volkswagen | 23.44017 | 29.22222 |\n\n",
            "text/html": [
              "<table class=\"dataframe\">\n",
              "<caption>A grouped_df: 15 × 3</caption>\n",
              "<thead>\n",
              "\t<tr><th scope=col>manufacturer</th><th scope=col>mean(hwy)</th><th scope=col>delay</th></tr>\n",
              "\t<tr><th scope=col>&lt;chr&gt;</th><th scope=col>&lt;dbl&gt;</th><th scope=col>&lt;dbl&gt;</th></tr>\n",
              "</thead>\n",
              "<tbody>\n",
              "\t<tr><td>audi      </td><td>23.44017</td><td>26.44444</td></tr>\n",
              "\t<tr><td>chevrolet </td><td>23.44017</td><td>21.89474</td></tr>\n",
              "\t<tr><td>dodge     </td><td>23.44017</td><td>17.94595</td></tr>\n",
              "\t<tr><td>ford      </td><td>23.44017</td><td>19.36000</td></tr>\n",
              "\t<tr><td>honda     </td><td>23.44017</td><td>32.55556</td></tr>\n",
              "\t<tr><td>hyundai   </td><td>23.44017</td><td>26.85714</td></tr>\n",
              "\t<tr><td>jeep      </td><td>23.44017</td><td>17.62500</td></tr>\n",
              "\t<tr><td>land rover</td><td>23.44017</td><td>16.50000</td></tr>\n",
              "\t<tr><td>lincoln   </td><td>23.44017</td><td>17.00000</td></tr>\n",
              "\t<tr><td>mercury   </td><td>23.44017</td><td>18.00000</td></tr>\n",
              "\t<tr><td>nissan    </td><td>23.44017</td><td>24.61538</td></tr>\n",
              "\t<tr><td>pontiac   </td><td>23.44017</td><td>26.40000</td></tr>\n",
              "\t<tr><td>subaru    </td><td>23.44017</td><td>25.57143</td></tr>\n",
              "\t<tr><td>toyota    </td><td>23.44017</td><td>24.91176</td></tr>\n",
              "\t<tr><td>volkswagen</td><td>23.44017</td><td>29.22222</td></tr>\n",
              "</tbody>\n",
              "</table>\n"
            ]
          },
          "metadata": {
            "tags": []
          }
        }
      ]
    },
    {
      "cell_type": "markdown",
      "metadata": {
        "id": "XDLr3S1SXRWJ"
      },
      "source": [
        "**(2)** Report the best (highest mileage) and worst (lowest mileage) manufacturer. _0.5 points_"
      ]
    },
    {
      "cell_type": "markdown",
      "metadata": {
        "id": "93nkrHudXRWJ"
      },
      "source": [
        "The best manufacturer is: Honda\n",
        "\n",
        "The worst manufacturer is: Land rover"
      ]
    },
    {
      "cell_type": "markdown",
      "metadata": {
        "id": "t8sFaTq0XRWK"
      },
      "source": [
        "**(3)** Alice is looking at the `mpg` tibble. Using `group_by()`, `summarize()`, `arrange()`, and pipes, she finds the following counts for the three possible types of drive trains.\n",
        "\n",
        "```\n",
        "# A tibble: 3 x 2\n",
        "  drv   count\n",
        "  <chr> <int>\n",
        "1 r        25\n",
        "2 4       103\n",
        "3 f       106\n",
        "```\n",
        "\n",
        "Write the command that Alice used to create the above output. _3 points_"
      ]
    },
    {
      "cell_type": "code",
      "metadata": {
        "id": "IxgM4oH-XRWK",
        "colab": {
          "base_uri": "https://localhost:8080/",
          "height": 1000
        },
        "outputId": "fbb0f7d3-d8ca-449d-c2bf-09ea750f65ce"
      },
      "source": [
        "mileage <- group_by(mpg, drv)\n",
        "summarize(mileage, count = n())\n",
        "arrange(mileage, count)"
      ],
      "execution_count": 71,
      "outputs": [
        {
          "output_type": "display_data",
          "data": {
            "text/plain": [
              "  drv count\n",
              "1 4   103  \n",
              "2 f   106  \n",
              "3 r    25  "
            ],
            "text/latex": "A tibble: 3 × 2\n\\begin{tabular}{r|ll}\n  & drv & count\\\\\n  & <chr> & <int>\\\\\n\\hline\n\t1 & 4 & 103\\\\\n\t2 & f & 106\\\\\n\t3 & r &  25\\\\\n\\end{tabular}\n",
            "text/markdown": "\nA tibble: 3 × 2\n\n| <!--/--> | drv &lt;chr&gt; | count &lt;int&gt; |\n|---|---|---|\n| 1 | 4 | 103 |\n| 2 | f | 106 |\n| 3 | r |  25 |\n\n",
            "text/html": [
              "<table class=\"dataframe\">\n",
              "<caption>A tibble: 3 × 2</caption>\n",
              "<thead>\n",
              "\t<tr><th></th><th scope=col>drv</th><th scope=col>count</th></tr>\n",
              "\t<tr><th></th><th scope=col>&lt;chr&gt;</th><th scope=col>&lt;int&gt;</th></tr>\n",
              "</thead>\n",
              "<tbody>\n",
              "\t<tr><th scope=row>1</th><td>4</td><td>103</td></tr>\n",
              "\t<tr><th scope=row>2</th><td>f</td><td>106</td></tr>\n",
              "\t<tr><th scope=row>3</th><td>r</td><td> 25</td></tr>\n",
              "</tbody>\n",
              "</table>\n"
            ]
          },
          "metadata": {
            "tags": []
          }
        },
        {
          "output_type": "error",
          "ename": "ERROR",
          "evalue": "ignored",
          "traceback": [
            "Error: arrange() failed at implicit mutate() step. \n* Problem with `mutate()` input `..1`.\n\u001b[31m✖\u001b[39m Input `..1` must be a vector, not a function.\n\u001b[34mℹ\u001b[39m Input `..1` is `count`.\nTraceback:\n",
            "1. arrange(mileage, count)",
            "2. arrange.data.frame(mileage, count)",
            "3. arrange_rows(.data, dots)",
            "4. withCallingHandlers({\n .     transmute(new_data_frame(.data), !!!quosures)\n . }, error = function(cnd) {\n .     if (inherits(cnd, \"dplyr:::mutate_error\")) {\n .         bullets <- gsub(\"^^--arrange_quosure_\", \"..\", cnd$bullets, \n .             fixed = TRUE)\n .     }\n .     else {\n .         bullets <- c(x = conditionMessage(cnd))\n .     }\n .     abort(c(\"arrange() failed at implicit mutate() step. \", bullets), \n .         class = \"dplyr_error\")\n . })",
            "5. transmute(new_data_frame(.data), !!!quosures)",
            "6. transmute.data.frame(new_data_frame(.data), !!!quosures)",
            "7. mutate(.data, ..., .keep = \"none\")",
            "8. mutate.data.frame(.data, ..., .keep = \"none\")",
            "9. mutate_cols(.data, ...)",
            "10. withCallingHandlers({\n  .     for (i in seq_along(dots)) {\n  .         mask$across_cache_reset()\n  .         quosures <- expand_quosure(dots[[i]])\n  .         for (k in seq_along(quosures)) {\n  .             quo <- quosures[[k]]\n  .             quo_data <- attr(quo, \"dplyr:::data\")\n  .             context_poke(\"column\", quo_data$column)\n  .             chunks <- NULL\n  .             result <- NULL\n  .             if (quo_is_symbol(quo)) {\n  .                 name <- as_string(quo_get_expr(quo))\n  .                 if (name %in% names(new_columns)) {\n  .                   result <- new_columns[[name]]\n  .                   chunks <- mask$resolve(name)\n  .                 }\n  .                 else if (name %in% names(.data)) {\n  .                   result <- .data[[name]]\n  .                   chunks <- mask$resolve(name)\n  .                 }\n  .                 if (inherits(.data, \"rowwise_df\") && vec_is_list(result)) {\n  .                   sizes <- list_sizes(result)\n  .                   wrong <- which(sizes != 1)\n  .                   if (length(wrong)) {\n  .                     group <- wrong[1L]\n  .                     mask$set_current_group(group)\n  .                     abort(x_size = sizes[group], class = \"dplyr:::mutate_incompatible_size\")\n  .                   }\n  .                 }\n  .             }\n  .             if (is.null(chunks)) {\n  .                 chunks <- mask$eval_all_mutate(quo)\n  .             }\n  .             if (is.null(chunks)) {\n  .                 if (quo_data$is_named) {\n  .                   name <- quo_data$name_given\n  .                   new_columns[[name]] <- zap()\n  .                   mask$remove(name)\n  .                 }\n  .                 next\n  .             }\n  .             if (is.null(result)) {\n  .                 if (length(rows) == 1) {\n  .                   result <- chunks[[1]]\n  .                 }\n  .                 else {\n  .                   result <- withCallingHandlers(vec_unchop(chunks <- vec_cast_common(!!!chunks), \n  .                     rows), vctrs_error_incompatible_type = function(cnd) {\n  .                     abort(class = \"dplyr:::error_mutate_incompatible_combine\", \n  .                       parent = cnd)\n  .                   })\n  .                 }\n  .             }\n  .             if (!quo_data$is_named && is.data.frame(result)) {\n  .                 new_columns[names(result)] <- result\n  .                 mask$add_many(result, chunks)\n  .             }\n  .             else {\n  .                 name <- quo_data$name_auto\n  .                 new_columns[[name]] <- result\n  .                 mask$add_one(name, chunks)\n  .             }\n  .         }\n  .     }\n  . }, error = function(e) {\n  .     local_call_step(dots = dots, .index = i, .fn = \"mutate\", \n  .         .dot_data = inherits(e, \"rlang_error_data_pronoun_not_found\"))\n  .     call_step_envir <- peek_call_step()\n  .     error_name <- call_step_envir$error_name\n  .     error_expression <- call_step_envir$error_expression\n  .     show_group_details <- TRUE\n  .     if (inherits(e, \"dplyr:::mutate_incompatible_size\")) {\n  .         size <- vec_size(rows[[mask$get_current_group()]])\n  .         x_size <- e$x_size\n  .         bullets <- c(x = glue(\"Input `{error_name}` can't be recycled to size {size}.\"), \n  .             i = cnd_bullet_input_info(), i = glue(\"Input `{error_name}` must be size {or_1(size)}, not {x_size}.\"), \n  .             i = cnd_bullet_rowwise_unlist())\n  .     }\n  .     else if (inherits(e, \"dplyr:::mutate_mixed_null\")) {\n  .         show_group_details <- FALSE\n  .         bullets <- c(x = glue(\"`{error_name}` must return compatible vectors across groups.\"), \n  .             i = cnd_bullet_input_info(), i = \"Cannot combine NULL and non NULL results.\", \n  .             i = cnd_bullet_rowwise_unlist())\n  .     }\n  .     else if (inherits(e, \"dplyr:::mutate_not_vector\")) {\n  .         bullets <- c(x = glue(\"Input `{error_name}` must be a vector, not {friendly_type_of(e$result)}.\"), \n  .             i = cnd_bullet_input_info(), i = cnd_bullet_rowwise_unlist())\n  .     }\n  .     else if (inherits(e, \"dplyr:::error_mutate_incompatible_combine\")) {\n  .         show_group_details <- FALSE\n  .         bullets <- c(x = glue(\"Input `{error_name}` must return compatible vectors across groups\"), \n  .             i = cnd_bullet_input_info(), i = cnd_bullet_combine_details(e$parent$x, \n  .                 e$parent$x_arg), i = cnd_bullet_combine_details(e$parent$y, \n  .                 e$parent$y_arg))\n  .     }\n  .     else {\n  .         bullets <- c(x = conditionMessage(e), i = cnd_bullet_input_info())\n  .     }\n  .     bullets <- c(cnd_bullet_header(), bullets, i = if (show_group_details) cnd_bullet_cur_group_label())\n  .     abort(bullets, class = c(\"dplyr:::mutate_error\", \"dplyr_error\"), \n  .         error_name = error_name, error_expression = error_expression, \n  .         parent = e, bullets = bullets)\n  . }, warning = function(w) {\n  .     if (check_muffled_warning(w)) {\n  .         maybe_restart(\"muffleWarning\")\n  .     }\n  .     local_call_step(dots = dots, .index = i, .fn = \"mutate\")\n  .     warn(c(cnd_bullet_header(), i = conditionMessage(w), i = cnd_bullet_input_info(), \n  .         i = cnd_bullet_cur_group_label()))\n  .     maybe_restart(\"muffleWarning\")\n  . })",
            "11. mask$eval_all_mutate(quo)",
            "12. abort_glue(character(0), list(result = function (x, ..., wt = NULL, \n  .     sort = FALSE, name = NULL) \n  . {\n  .     UseMethod(\"count\")\n  . }), \"dplyr:::mutate_not_vector\")",
            "13. exec(abort, class = class, !!!data)",
            "14. (function (message = NULL, class = NULL, ..., trace = NULL, parent = NULL, \n  .     .subclass = deprecated()) \n  . {\n  .     validate_signal_args(.subclass)\n  .     if (is_null(trace) && is_null(peek_option(\"rlang:::disable_trace_capture\"))) {\n  .         with_options(`rlang:::disable_trace_capture` = TRUE, \n  .             {\n  .                 trace <- trace_back()\n  .                 if (is_null(parent)) {\n  .                   context <- trace_length(trace)\n  .                 }\n  .                 else {\n  .                   context <- trace_capture_depth(trace)\n  .                 }\n  .                 trace <- trace_trim_context(trace, context)\n  .             })\n  .     }\n  .     message <- validate_signal_message(message, class)\n  .     message <- collapse_cnd_message(message)\n  .     cnd <- error_cnd(class, ..., message = message, parent = parent, \n  .         trace = trace)\n  .     signal_abort(cnd)\n  . })(class = \"dplyr:::mutate_not_vector\", result = function (x, \n  .     ..., wt = NULL, sort = FALSE, name = NULL) \n  . {\n  .     UseMethod(\"count\")\n  . })",
            "15. signal_abort(cnd)",
            "16. signalCondition(cnd)",
            "17. (function (e) \n  . {\n  .     local_call_step(dots = dots, .index = i, .fn = \"mutate\", \n  .         .dot_data = inherits(e, \"rlang_error_data_pronoun_not_found\"))\n  .     call_step_envir <- peek_call_step()\n  .     error_name <- call_step_envir$error_name\n  .     error_expression <- call_step_envir$error_expression\n  .     show_group_details <- TRUE\n  .     if (inherits(e, \"dplyr:::mutate_incompatible_size\")) {\n  .         size <- vec_size(rows[[mask$get_current_group()]])\n  .         x_size <- e$x_size\n  .         bullets <- c(x = glue(\"Input `{error_name}` can't be recycled to size {size}.\"), \n  .             i = cnd_bullet_input_info(), i = glue(\"Input `{error_name}` must be size {or_1(size)}, not {x_size}.\"), \n  .             i = cnd_bullet_rowwise_unlist())\n  .     }\n  .     else if (inherits(e, \"dplyr:::mutate_mixed_null\")) {\n  .         show_group_details <- FALSE\n  .         bullets <- c(x = glue(\"`{error_name}` must return compatible vectors across groups.\"), \n  .             i = cnd_bullet_input_info(), i = \"Cannot combine NULL and non NULL results.\", \n  .             i = cnd_bullet_rowwise_unlist())\n  .     }\n  .     else if (inherits(e, \"dplyr:::mutate_not_vector\")) {\n  .         bullets <- c(x = glue(\"Input `{error_name}` must be a vector, not {friendly_type_of(e$result)}.\"), \n  .             i = cnd_bullet_input_info(), i = cnd_bullet_rowwise_unlist())\n  .     }\n  .     else if (inherits(e, \"dplyr:::error_mutate_incompatible_combine\")) {\n  .         show_group_details <- FALSE\n  .         bullets <- c(x = glue(\"Input `{error_name}` must return compatible vectors across groups\"), \n  .             i = cnd_bullet_input_info(), i = cnd_bullet_combine_details(e$parent$x, \n  .                 e$parent$x_arg), i = cnd_bullet_combine_details(e$parent$y, \n  .                 e$parent$y_arg))\n  .     }\n  .     else {\n  .         bullets <- c(x = conditionMessage(e), i = cnd_bullet_input_info())\n  .     }\n  .     bullets <- c(cnd_bullet_header(), bullets, i = if (show_group_details) cnd_bullet_cur_group_label())\n  .     abort(bullets, class = c(\"dplyr:::mutate_error\", \"dplyr_error\"), \n  .         error_name = error_name, error_expression = error_expression, \n  .         parent = e, bullets = bullets)\n  . })(structure(list(message = \"\", trace = structure(list(calls = list(\n  .     IRkernel::main(), kernel$run(), IRkernel:::handle_shell(), \n  .     executor$execute(msg), base::tryCatch(evaluate(request$content$code, \n  .         envir = .GlobalEnv, output_handler = oh, stop_on_error = 1L), \n  .         interrupt = function(cond) {\n  .             log_debug(\"Interrupt during execution\")\n  .             interrupted <<- TRUE\n  .         }, error = .self$handle_error), base:::tryCatchList(expr, \n  .         classes, parentenv, handlers), base:::tryCatchOne(tryCatchList(expr, \n  .         names[-nh], parentenv, handlers[-nh]), names[nh], parentenv, \n  .         handlers[[nh]]), base:::doTryCatch(return(expr), name, \n  .         parentenv, handler), base:::tryCatchList(expr, names[-nh], \n  .         parentenv, handlers[-nh]), base:::tryCatchOne(expr, names, \n  .         parentenv, handlers[[1L]]), base:::doTryCatch(return(expr), \n  .         name, parentenv, handler), evaluate::evaluate(request$content$code, \n  .         envir = .GlobalEnv, output_handler = oh, stop_on_error = 1L), \n  .     evaluate:::evaluate_call(expr, parsed$src[[i]], envir = envir, \n  .         enclos = enclos, debug = debug, last = i == length(out), \n  .         use_try = stop_on_error != 2L, keep_warning = keep_warning, \n  .         keep_message = keep_message, output_handler = output_handler, \n  .         include_timing = include_timing), evaluate:::timing_fn(handle(ev <- withCallingHandlers(withVisible(eval(expr, \n  .         envir, enclos)), warning = wHandler, error = eHandler, \n  .         message = mHandler))), evaluate:::handle(ev <- withCallingHandlers(withVisible(eval(expr, \n  .         envir, enclos)), warning = wHandler, error = eHandler, \n  .         message = mHandler)), base::try(f, silent = TRUE), base::tryCatch(expr, \n  .         error = function(e) {\n  .             call <- conditionCall(e)\n  .             if (!is.null(call)) {\n  .                 if (identical(call[[1L]], quote(doTryCatch))) \n  .                   call <- sys.call(-4L)\n  .                 dcall <- deparse(call)[1L]\n  .                 prefix <- paste(\"Error in\", dcall, \": \")\n  .                 LONG <- 75L\n  .                 sm <- strsplit(conditionMessage(e), \"\\n\")[[1L]]\n  .                 w <- 14L + nchar(dcall, type = \"w\") + nchar(sm[1L], \n  .                   type = \"w\")\n  .                 if (is.na(w)) \n  .                   w <- 14L + nchar(dcall, type = \"b\") + nchar(sm[1L], \n  .                     type = \"b\")\n  .                 if (w > LONG) \n  .                   prefix <- paste0(prefix, \"\\n  \")\n  .             }\n  .             else prefix <- \"Error : \"\n  .             msg <- paste0(prefix, conditionMessage(e), \"\\n\")\n  .             .Internal(seterrmessage(msg[1L]))\n  .             if (!silent && isTRUE(getOption(\"show.error.messages\"))) {\n  .                 cat(msg, file = outFile)\n  .                 .Internal(printDeferredWarnings())\n  .             }\n  .             invisible(structure(msg, class = \"try-error\", condition = e))\n  .         }), base:::tryCatchList(expr, classes, parentenv, handlers), \n  .     base:::tryCatchOne(expr, names, parentenv, handlers[[1L]]), \n  .     base:::doTryCatch(return(expr), name, parentenv, handler), \n  .     base::withCallingHandlers(withVisible(eval(expr, envir, enclos)), \n  .         warning = wHandler, error = eHandler, message = mHandler), \n  .     base::withVisible(eval(expr, envir, enclos)), base::eval(expr, \n  .         envir, enclos), base::eval(expr, envir, enclos), dplyr::arrange(mileage, \n  .         count), dplyr:::arrange.data.frame(mileage, count), dplyr:::arrange_rows(.data, \n  .         dots), base::withCallingHandlers({\n  .         transmute(new_data_frame(.data), !!!quosures)\n  .     }, error = function(cnd) {\n  .         if (inherits(cnd, \"dplyr:::mutate_error\")) {\n  .             bullets <- gsub(\"^^--arrange_quosure_\", \"..\", cnd$bullets, \n  .                 fixed = TRUE)\n  .         }\n  .         else {\n  .             bullets <- c(x = conditionMessage(cnd))\n  .         }\n  .         abort(c(\"arrange() failed at implicit mutate() step. \", \n  .             bullets), class = \"dplyr_error\")\n  .     }), dplyr::transmute(new_data_frame(.data), !!!quosures), \n  .     dplyr:::transmute.data.frame(new_data_frame(.data), !!!quosures), \n  .     dplyr::mutate(.data, ..., .keep = \"none\"), dplyr:::mutate.data.frame(.data, \n  .         ..., .keep = \"none\"), dplyr:::mutate_cols(.data, ...), \n  .     base::withCallingHandlers({\n  .         for (i in seq_along(dots)) {\n  .             mask$across_cache_reset()\n  .             quosures <- expand_quosure(dots[[i]])\n  .             for (k in seq_along(quosures)) {\n  .                 quo <- quosures[[k]]\n  .                 quo_data <- attr(quo, \"dplyr:::data\")\n  .                 context_poke(\"column\", quo_data$column)\n  .                 chunks <- NULL\n  .                 result <- NULL\n  .                 if (quo_is_symbol(quo)) {\n  .                   name <- as_string(quo_get_expr(quo))\n  .                   if (name %in% names(new_columns)) {\n  .                     result <- new_columns[[name]]\n  .                     chunks <- mask$resolve(name)\n  .                   }\n  .                   else if (name %in% names(.data)) {\n  .                     result <- .data[[name]]\n  .                     chunks <- mask$resolve(name)\n  .                   }\n  .                   if (inherits(.data, \"rowwise_df\") && vec_is_list(result)) {\n  .                     sizes <- list_sizes(result)\n  .                     wrong <- which(sizes != 1)\n  .                     if (length(wrong)) {\n  .                       group <- wrong[1L]\n  .                       mask$set_current_group(group)\n  .                       abort(x_size = sizes[group], class = \"dplyr:::mutate_incompatible_size\")\n  .                     }\n  .                   }\n  .                 }\n  .                 if (is.null(chunks)) {\n  .                   chunks <- mask$eval_all_mutate(quo)\n  .                 }\n  .                 if (is.null(chunks)) {\n  .                   if (quo_data$is_named) {\n  .                     name <- quo_data$name_given\n  .                     new_columns[[name]] <- zap()\n  .                     mask$remove(name)\n  .                   }\n  .                   next\n  .                 }\n  .                 if (is.null(result)) {\n  .                   if (length(rows) == 1) {\n  .                     result <- chunks[[1]]\n  .                   }\n  .                   else {\n  .                     result <- withCallingHandlers(vec_unchop(chunks <- vec_cast_common(!!!chunks), \n  .                       rows), vctrs_error_incompatible_type = function(cnd) {\n  .                       abort(class = \"dplyr:::error_mutate_incompatible_combine\", \n  .                         parent = cnd)\n  .                     })\n  .                   }\n  .                 }\n  .                 if (!quo_data$is_named && is.data.frame(result)) {\n  .                   new_columns[names(result)] <- result\n  .                   mask$add_many(result, chunks)\n  .                 }\n  .                 else {\n  .                   name <- quo_data$name_auto\n  .                   new_columns[[name]] <- result\n  .                   mask$add_one(name, chunks)\n  .                 }\n  .             }\n  .         }\n  .     }, error = function(e) {\n  .         local_call_step(dots = dots, .index = i, .fn = \"mutate\", \n  .             .dot_data = inherits(e, \"rlang_error_data_pronoun_not_found\"))\n  .         call_step_envir <- peek_call_step()\n  .         error_name <- call_step_envir$error_name\n  .         error_expression <- call_step_envir$error_expression\n  .         show_group_details <- TRUE\n  .         if (inherits(e, \"dplyr:::mutate_incompatible_size\")) {\n  .             size <- vec_size(rows[[mask$get_current_group()]])\n  .             x_size <- e$x_size\n  .             bullets <- c(x = glue(\"Input `{error_name}` can't be recycled to size {size}.\"), \n  .                 i = cnd_bullet_input_info(), i = glue(\"Input `{error_name}` must be size {or_1(size)}, not {x_size}.\"), \n  .                 i = cnd_bullet_rowwise_unlist())\n  .         }\n  .         else if (inherits(e, \"dplyr:::mutate_mixed_null\")) {\n  .             show_group_details <- FALSE\n  .             bullets <- c(x = glue(\"`{error_name}` must return compatible vectors across groups.\"), \n  .                 i = cnd_bullet_input_info(), i = \"Cannot combine NULL and non NULL results.\", \n  .                 i = cnd_bullet_rowwise_unlist())\n  .         }\n  .         else if (inherits(e, \"dplyr:::mutate_not_vector\")) {\n  .             bullets <- c(x = glue(\"Input `{error_name}` must be a vector, not {friendly_type_of(e$result)}.\"), \n  .                 i = cnd_bullet_input_info(), i = cnd_bullet_rowwise_unlist())\n  .         }\n  .         else if (inherits(e, \"dplyr:::error_mutate_incompatible_combine\")) {\n  .             show_group_details <- FALSE\n  .             bullets <- c(x = glue(\"Input `{error_name}` must return compatible vectors across groups\"), \n  .                 i = cnd_bullet_input_info(), i = cnd_bullet_combine_details(e$parent$x, \n  .                   e$parent$x_arg), i = cnd_bullet_combine_details(e$parent$y, \n  .                   e$parent$y_arg))\n  .         }\n  .         else {\n  .             bullets <- c(x = conditionMessage(e), i = cnd_bullet_input_info())\n  .         }\n  .         bullets <- c(cnd_bullet_header(), bullets, i = if (show_group_details) cnd_bullet_cur_group_label())\n  .         abort(bullets, class = c(\"dplyr:::mutate_error\", \"dplyr_error\"), \n  .             error_name = error_name, error_expression = error_expression, \n  .             parent = e, bullets = bullets)\n  .     }, warning = function(w) {\n  .         if (check_muffled_warning(w)) {\n  .             maybe_restart(\"muffleWarning\")\n  .         }\n  .         local_call_step(dots = dots, .index = i, .fn = \"mutate\")\n  .         warn(c(cnd_bullet_header(), i = conditionMessage(w), \n  .             i = cnd_bullet_input_info(), i = cnd_bullet_cur_group_label()))\n  .         maybe_restart(\"muffleWarning\")\n  .     }), mask$eval_all_mutate(quo), dplyr:::abort_glue(character(0), \n  .         list(result = function (x, ..., wt = NULL, sort = FALSE, \n  .             name = NULL) \n  .         {\n  .             UseMethod(\"count\")\n  .         }), \"dplyr:::mutate_not_vector\"), rlang::exec(abort, \n  .         class = class, !!!data)), parents = c(0L, 1L, 2L, 3L, \n  . 4L, 5L, 6L, 7L, 6L, 9L, 10L, 4L, 12L, 13L, 13L, 15L, 16L, 17L, \n  . 18L, 19L, 13L, 13L, 13L, 23L, 0L, 0L, 26L, 27L, 27L, 27L, 30L, \n  . 30L, 32L, 33L, 33L, 0L, 36L), indices = 1:37), class = \"rlang_trace\", version = 1L), \n  .     parent = NULL, result = function (x, ..., wt = NULL, sort = FALSE, \n  .         name = NULL) \n  .     {\n  .         UseMethod(\"count\")\n  .     }), class = c(\"dplyr:::mutate_not_vector\", \"rlang_error\", \n  . \"error\", \"condition\")))",
            "18. abort(bullets, class = c(\"dplyr:::mutate_error\", \"dplyr_error\"), \n  .     error_name = error_name, error_expression = error_expression, \n  .     parent = e, bullets = bullets)",
            "19. signal_abort(cnd)",
            "20. signalCondition(cnd)",
            "21. (function (cnd) \n  . {\n  .     if (inherits(cnd, \"dplyr:::mutate_error\")) {\n  .         bullets <- gsub(\"^^--arrange_quosure_\", \"..\", cnd$bullets, \n  .             fixed = TRUE)\n  .     }\n  .     else {\n  .         bullets <- c(x = conditionMessage(cnd))\n  .     }\n  .     abort(c(\"arrange() failed at implicit mutate() step. \", bullets), \n  .         class = \"dplyr_error\")\n  . })(structure(list(message = \"Problem with `mutate()` input `^^--arrange_quosure_1`.\\n\\033[31m✖\\033[39m Input `^^--arrange_quosure_1` must be a vector, not a function.\\n\\033[34mℹ\\033[39m Input `^^--arrange_quosure_1` is `count`.\", \n  .     trace = structure(list(calls = list(IRkernel::main(), kernel$run(), \n  .         IRkernel:::handle_shell(), executor$execute(msg), base::tryCatch(evaluate(request$content$code, \n  .             envir = .GlobalEnv, output_handler = oh, stop_on_error = 1L), \n  .             interrupt = function(cond) {\n  .                 log_debug(\"Interrupt during execution\")\n  .                 interrupted <<- TRUE\n  .             }, error = .self$handle_error), base:::tryCatchList(expr, \n  .             classes, parentenv, handlers), base:::tryCatchOne(tryCatchList(expr, \n  .             names[-nh], parentenv, handlers[-nh]), names[nh], \n  .             parentenv, handlers[[nh]]), base:::doTryCatch(return(expr), \n  .             name, parentenv, handler), base:::tryCatchList(expr, \n  .             names[-nh], parentenv, handlers[-nh]), base:::tryCatchOne(expr, \n  .             names, parentenv, handlers[[1L]]), base:::doTryCatch(return(expr), \n  .             name, parentenv, handler), evaluate::evaluate(request$content$code, \n  .             envir = .GlobalEnv, output_handler = oh, stop_on_error = 1L), \n  .         evaluate:::evaluate_call(expr, parsed$src[[i]], envir = envir, \n  .             enclos = enclos, debug = debug, last = i == length(out), \n  .             use_try = stop_on_error != 2L, keep_warning = keep_warning, \n  .             keep_message = keep_message, output_handler = output_handler, \n  .             include_timing = include_timing), evaluate:::timing_fn(handle(ev <- withCallingHandlers(withVisible(eval(expr, \n  .             envir, enclos)), warning = wHandler, error = eHandler, \n  .             message = mHandler))), evaluate:::handle(ev <- withCallingHandlers(withVisible(eval(expr, \n  .             envir, enclos)), warning = wHandler, error = eHandler, \n  .             message = mHandler)), base::try(f, silent = TRUE), \n  .         base::tryCatch(expr, error = function(e) {\n  .             call <- conditionCall(e)\n  .             if (!is.null(call)) {\n  .                 if (identical(call[[1L]], quote(doTryCatch))) \n  .                   call <- sys.call(-4L)\n  .                 dcall <- deparse(call)[1L]\n  .                 prefix <- paste(\"Error in\", dcall, \": \")\n  .                 LONG <- 75L\n  .                 sm <- strsplit(conditionMessage(e), \"\\n\")[[1L]]\n  .                 w <- 14L + nchar(dcall, type = \"w\") + nchar(sm[1L], \n  .                   type = \"w\")\n  .                 if (is.na(w)) \n  .                   w <- 14L + nchar(dcall, type = \"b\") + nchar(sm[1L], \n  .                     type = \"b\")\n  .                 if (w > LONG) \n  .                   prefix <- paste0(prefix, \"\\n  \")\n  .             }\n  .             else prefix <- \"Error : \"\n  .             msg <- paste0(prefix, conditionMessage(e), \"\\n\")\n  .             .Internal(seterrmessage(msg[1L]))\n  .             if (!silent && isTRUE(getOption(\"show.error.messages\"))) {\n  .                 cat(msg, file = outFile)\n  .                 .Internal(printDeferredWarnings())\n  .             }\n  .             invisible(structure(msg, class = \"try-error\", condition = e))\n  .         }), base:::tryCatchList(expr, classes, parentenv, handlers), \n  .         base:::tryCatchOne(expr, names, parentenv, handlers[[1L]]), \n  .         base:::doTryCatch(return(expr), name, parentenv, handler), \n  .         base::withCallingHandlers(withVisible(eval(expr, envir, \n  .             enclos)), warning = wHandler, error = eHandler, message = mHandler), \n  .         base::withVisible(eval(expr, envir, enclos)), base::eval(expr, \n  .             envir, enclos), base::eval(expr, envir, enclos), \n  .         dplyr::arrange(mileage, count), dplyr:::arrange.data.frame(mileage, \n  .             count), dplyr:::arrange_rows(.data, dots), base::withCallingHandlers({\n  .             transmute(new_data_frame(.data), !!!quosures)\n  .         }, error = function(cnd) {\n  .             if (inherits(cnd, \"dplyr:::mutate_error\")) {\n  .                 bullets <- gsub(\"^^--arrange_quosure_\", \"..\", \n  .                   cnd$bullets, fixed = TRUE)\n  .             }\n  .             else {\n  .                 bullets <- c(x = conditionMessage(cnd))\n  .             }\n  .             abort(c(\"arrange() failed at implicit mutate() step. \", \n  .                 bullets), class = \"dplyr_error\")\n  .         }), dplyr::transmute(new_data_frame(.data), !!!quosures), \n  .         dplyr:::transmute.data.frame(new_data_frame(.data), !!!quosures), \n  .         dplyr::mutate(.data, ..., .keep = \"none\"), dplyr:::mutate.data.frame(.data, \n  .             ..., .keep = \"none\"), dplyr:::mutate_cols(.data, \n  .             ...), base::withCallingHandlers({\n  .             for (i in seq_along(dots)) {\n  .                 mask$across_cache_reset()\n  .                 quosures <- expand_quosure(dots[[i]])\n  .                 for (k in seq_along(quosures)) {\n  .                   quo <- quosures[[k]]\n  .                   quo_data <- attr(quo, \"dplyr:::data\")\n  .                   context_poke(\"column\", quo_data$column)\n  .                   chunks <- NULL\n  .                   result <- NULL\n  .                   if (quo_is_symbol(quo)) {\n  .                     name <- as_string(quo_get_expr(quo))\n  .                     if (name %in% names(new_columns)) {\n  .                       result <- new_columns[[name]]\n  .                       chunks <- mask$resolve(name)\n  .                     }\n  .                     else if (name %in% names(.data)) {\n  .                       result <- .data[[name]]\n  .                       chunks <- mask$resolve(name)\n  .                     }\n  .                     if (inherits(.data, \"rowwise_df\") && vec_is_list(result)) {\n  .                       sizes <- list_sizes(result)\n  .                       wrong <- which(sizes != 1)\n  .                       if (length(wrong)) {\n  .                         group <- wrong[1L]\n  .                         mask$set_current_group(group)\n  .                         abort(x_size = sizes[group], class = \"dplyr:::mutate_incompatible_size\")\n  .                       }\n  .                     }\n  .                   }\n  .                   if (is.null(chunks)) {\n  .                     chunks <- mask$eval_all_mutate(quo)\n  .                   }\n  .                   if (is.null(chunks)) {\n  .                     if (quo_data$is_named) {\n  .                       name <- quo_data$name_given\n  .                       new_columns[[name]] <- zap()\n  .                       mask$remove(name)\n  .                     }\n  .                     next\n  .                   }\n  .                   if (is.null(result)) {\n  .                     if (length(rows) == 1) {\n  .                       result <- chunks[[1]]\n  .                     }\n  .                     else {\n  .                       result <- withCallingHandlers(vec_unchop(chunks <- vec_cast_common(!!!chunks), \n  .                         rows), vctrs_error_incompatible_type = function(cnd) {\n  .                         abort(class = \"dplyr:::error_mutate_incompatible_combine\", \n  .                           parent = cnd)\n  .                       })\n  .                     }\n  .                   }\n  .                   if (!quo_data$is_named && is.data.frame(result)) {\n  .                     new_columns[names(result)] <- result\n  .                     mask$add_many(result, chunks)\n  .                   }\n  .                   else {\n  .                     name <- quo_data$name_auto\n  .                     new_columns[[name]] <- result\n  .                     mask$add_one(name, chunks)\n  .                   }\n  .                 }\n  .             }\n  .         }, error = function(e) {\n  .             local_call_step(dots = dots, .index = i, .fn = \"mutate\", \n  .                 .dot_data = inherits(e, \"rlang_error_data_pronoun_not_found\"))\n  .             call_step_envir <- peek_call_step()\n  .             error_name <- call_step_envir$error_name\n  .             error_expression <- call_step_envir$error_expression\n  .             show_group_details <- TRUE\n  .             if (inherits(e, \"dplyr:::mutate_incompatible_size\")) {\n  .                 size <- vec_size(rows[[mask$get_current_group()]])\n  .                 x_size <- e$x_size\n  .                 bullets <- c(x = glue(\"Input `{error_name}` can't be recycled to size {size}.\"), \n  .                   i = cnd_bullet_input_info(), i = glue(\"Input `{error_name}` must be size {or_1(size)}, not {x_size}.\"), \n  .                   i = cnd_bullet_rowwise_unlist())\n  .             }\n  .             else if (inherits(e, \"dplyr:::mutate_mixed_null\")) {\n  .                 show_group_details <- FALSE\n  .                 bullets <- c(x = glue(\"`{error_name}` must return compatible vectors across groups.\"), \n  .                   i = cnd_bullet_input_info(), i = \"Cannot combine NULL and non NULL results.\", \n  .                   i = cnd_bullet_rowwise_unlist())\n  .             }\n  .             else if (inherits(e, \"dplyr:::mutate_not_vector\")) {\n  .                 bullets <- c(x = glue(\"Input `{error_name}` must be a vector, not {friendly_type_of(e$result)}.\"), \n  .                   i = cnd_bullet_input_info(), i = cnd_bullet_rowwise_unlist())\n  .             }\n  .             else if (inherits(e, \"dplyr:::error_mutate_incompatible_combine\")) {\n  .                 show_group_details <- FALSE\n  .                 bullets <- c(x = glue(\"Input `{error_name}` must return compatible vectors across groups\"), \n  .                   i = cnd_bullet_input_info(), i = cnd_bullet_combine_details(e$parent$x, \n  .                     e$parent$x_arg), i = cnd_bullet_combine_details(e$parent$y, \n  .                     e$parent$y_arg))\n  .             }\n  .             else {\n  .                 bullets <- c(x = conditionMessage(e), i = cnd_bullet_input_info())\n  .             }\n  .             bullets <- c(cnd_bullet_header(), bullets, i = if (show_group_details) cnd_bullet_cur_group_label())\n  .             abort(bullets, class = c(\"dplyr:::mutate_error\", \n  .                 \"dplyr_error\"), error_name = error_name, error_expression = error_expression, \n  .                 parent = e, bullets = bullets)\n  .         }, warning = function(w) {\n  .             if (check_muffled_warning(w)) {\n  .                 maybe_restart(\"muffleWarning\")\n  .             }\n  .             local_call_step(dots = dots, .index = i, .fn = \"mutate\")\n  .             warn(c(cnd_bullet_header(), i = conditionMessage(w), \n  .                 i = cnd_bullet_input_info(), i = cnd_bullet_cur_group_label()))\n  .             maybe_restart(\"muffleWarning\")\n  .         }), mask$eval_all_mutate(quo), dplyr:::abort_glue(character(0), \n  .             list(result = function (x, ..., wt = NULL, sort = FALSE, \n  .                 name = NULL) \n  .             {\n  .                 UseMethod(\"count\")\n  .             }), \"dplyr:::mutate_not_vector\"), rlang::exec(abort, \n  .             class = class, !!!data)), parents = c(0L, 1L, 2L, \n  .     3L, 4L, 5L, 6L, 7L, 6L, 9L, 10L, 4L, 12L, 13L, 13L, 15L, \n  .     16L, 17L, 18L, 19L, 13L, 13L, 13L, 23L, 0L, 0L, 26L, 27L, \n  .     27L, 27L, 30L, 30L, 32L, 33L, 33L, 0L, 36L), indices = 1:37), class = \"rlang_trace\", version = 1L), \n  .     parent = structure(list(message = \"\", trace = structure(list(\n  .         calls = list(IRkernel::main(), kernel$run(), IRkernel:::handle_shell(), \n  .             executor$execute(msg), base::tryCatch(evaluate(request$content$code, \n  .                 envir = .GlobalEnv, output_handler = oh, stop_on_error = 1L), \n  .                 interrupt = function(cond) {\n  .                   log_debug(\"Interrupt during execution\")\n  .                   interrupted <<- TRUE\n  .                 }, error = .self$handle_error), base:::tryCatchList(expr, \n  .                 classes, parentenv, handlers), base:::tryCatchOne(tryCatchList(expr, \n  .                 names[-nh], parentenv, handlers[-nh]), names[nh], \n  .                 parentenv, handlers[[nh]]), base:::doTryCatch(return(expr), \n  .                 name, parentenv, handler), base:::tryCatchList(expr, \n  .                 names[-nh], parentenv, handlers[-nh]), base:::tryCatchOne(expr, \n  .                 names, parentenv, handlers[[1L]]), base:::doTryCatch(return(expr), \n  .                 name, parentenv, handler), evaluate::evaluate(request$content$code, \n  .                 envir = .GlobalEnv, output_handler = oh, stop_on_error = 1L), \n  .             evaluate:::evaluate_call(expr, parsed$src[[i]], envir = envir, \n  .                 enclos = enclos, debug = debug, last = i == length(out), \n  .                 use_try = stop_on_error != 2L, keep_warning = keep_warning, \n  .                 keep_message = keep_message, output_handler = output_handler, \n  .                 include_timing = include_timing), evaluate:::timing_fn(handle(ev <- withCallingHandlers(withVisible(eval(expr, \n  .                 envir, enclos)), warning = wHandler, error = eHandler, \n  .                 message = mHandler))), evaluate:::handle(ev <- withCallingHandlers(withVisible(eval(expr, \n  .                 envir, enclos)), warning = wHandler, error = eHandler, \n  .                 message = mHandler)), base::try(f, silent = TRUE), \n  .             base::tryCatch(expr, error = function(e) {\n  .                 call <- conditionCall(e)\n  .                 if (!is.null(call)) {\n  .                   if (identical(call[[1L]], quote(doTryCatch))) \n  .                     call <- sys.call(-4L)\n  .                   dcall <- deparse(call)[1L]\n  .                   prefix <- paste(\"Error in\", dcall, \": \")\n  .                   LONG <- 75L\n  .                   sm <- strsplit(conditionMessage(e), \"\\n\")[[1L]]\n  .                   w <- 14L + nchar(dcall, type = \"w\") + nchar(sm[1L], \n  .                     type = \"w\")\n  .                   if (is.na(w)) \n  .                     w <- 14L + nchar(dcall, type = \"b\") + nchar(sm[1L], \n  .                       type = \"b\")\n  .                   if (w > LONG) \n  .                     prefix <- paste0(prefix, \"\\n  \")\n  .                 }\n  .                 else prefix <- \"Error : \"\n  .                 msg <- paste0(prefix, conditionMessage(e), \"\\n\")\n  .                 .Internal(seterrmessage(msg[1L]))\n  .                 if (!silent && isTRUE(getOption(\"show.error.messages\"))) {\n  .                   cat(msg, file = outFile)\n  .                   .Internal(printDeferredWarnings())\n  .                 }\n  .                 invisible(structure(msg, class = \"try-error\", \n  .                   condition = e))\n  .             }), base:::tryCatchList(expr, classes, parentenv, \n  .                 handlers), base:::tryCatchOne(expr, names, parentenv, \n  .                 handlers[[1L]]), base:::doTryCatch(return(expr), \n  .                 name, parentenv, handler), base::withCallingHandlers(withVisible(eval(expr, \n  .                 envir, enclos)), warning = wHandler, error = eHandler, \n  .                 message = mHandler), base::withVisible(eval(expr, \n  .                 envir, enclos)), base::eval(expr, envir, enclos), \n  .             base::eval(expr, envir, enclos), dplyr::arrange(mileage, \n  .                 count), dplyr:::arrange.data.frame(mileage, count), \n  .             dplyr:::arrange_rows(.data, dots), base::withCallingHandlers({\n  .                 transmute(new_data_frame(.data), !!!quosures)\n  .             }, error = function(cnd) {\n  .                 if (inherits(cnd, \"dplyr:::mutate_error\")) {\n  .                   bullets <- gsub(\"^^--arrange_quosure_\", \"..\", \n  .                     cnd$bullets, fixed = TRUE)\n  .                 }\n  .                 else {\n  .                   bullets <- c(x = conditionMessage(cnd))\n  .                 }\n  .                 abort(c(\"arrange() failed at implicit mutate() step. \", \n  .                   bullets), class = \"dplyr_error\")\n  .             }), dplyr::transmute(new_data_frame(.data), !!!quosures), \n  .             dplyr:::transmute.data.frame(new_data_frame(.data), \n  .                 !!!quosures), dplyr::mutate(.data, ..., .keep = \"none\"), \n  .             dplyr:::mutate.data.frame(.data, ..., .keep = \"none\"), \n  .             dplyr:::mutate_cols(.data, ...), base::withCallingHandlers({\n  .                 for (i in seq_along(dots)) {\n  .                   mask$across_cache_reset()\n  .                   quosures <- expand_quosure(dots[[i]])\n  .                   for (k in seq_along(quosures)) {\n  .                     quo <- quosures[[k]]\n  .                     quo_data <- attr(quo, \"dplyr:::data\")\n  .                     context_poke(\"column\", quo_data$column)\n  .                     chunks <- NULL\n  .                     result <- NULL\n  .                     if (quo_is_symbol(quo)) {\n  .                       name <- as_string(quo_get_expr(quo))\n  .                       if (name %in% names(new_columns)) {\n  .                         result <- new_columns[[name]]\n  .                         chunks <- mask$resolve(name)\n  .                       }\n  .                       else if (name %in% names(.data)) {\n  .                         result <- .data[[name]]\n  .                         chunks <- mask$resolve(name)\n  .                       }\n  .                       if (inherits(.data, \"rowwise_df\") && vec_is_list(result)) {\n  .                         sizes <- list_sizes(result)\n  .                         wrong <- which(sizes != 1)\n  .                         if (length(wrong)) {\n  .                           group <- wrong[1L]\n  .                           mask$set_current_group(group)\n  .                           abort(x_size = sizes[group], class = \"dplyr:::mutate_incompatible_size\")\n  .                         }\n  .                       }\n  .                     }\n  .                     if (is.null(chunks)) {\n  .                       chunks <- mask$eval_all_mutate(quo)\n  .                     }\n  .                     if (is.null(chunks)) {\n  .                       if (quo_data$is_named) {\n  .                         name <- quo_data$name_given\n  .                         new_columns[[name]] <- zap()\n  .                         mask$remove(name)\n  .                       }\n  .                       next\n  .                     }\n  .                     if (is.null(result)) {\n  .                       if (length(rows) == 1) {\n  .                         result <- chunks[[1]]\n  .                       }\n  .                       else {\n  .                         result <- withCallingHandlers(vec_unchop(chunks <- vec_cast_common(!!!chunks), \n  .                           rows), vctrs_error_incompatible_type = function(cnd) {\n  .                           abort(class = \"dplyr:::error_mutate_incompatible_combine\", \n  .                             parent = cnd)\n  .                         })\n  .                       }\n  .                     }\n  .                     if (!quo_data$is_named && is.data.frame(result)) {\n  .                       new_columns[names(result)] <- result\n  .                       mask$add_many(result, chunks)\n  .                     }\n  .                     else {\n  .                       name <- quo_data$name_auto\n  .                       new_columns[[name]] <- result\n  .                       mask$add_one(name, chunks)\n  .                     }\n  .                   }\n  .                 }\n  .             }, error = function(e) {\n  .                 local_call_step(dots = dots, .index = i, .fn = \"mutate\", \n  .                   .dot_data = inherits(e, \"rlang_error_data_pronoun_not_found\"))\n  .                 call_step_envir <- peek_call_step()\n  .                 error_name <- call_step_envir$error_name\n  .                 error_expression <- call_step_envir$error_expression\n  .                 show_group_details <- TRUE\n  .                 if (inherits(e, \"dplyr:::mutate_incompatible_size\")) {\n  .                   size <- vec_size(rows[[mask$get_current_group()]])\n  .                   x_size <- e$x_size\n  .                   bullets <- c(x = glue(\"Input `{error_name}` can't be recycled to size {size}.\"), \n  .                     i = cnd_bullet_input_info(), i = glue(\"Input `{error_name}` must be size {or_1(size)}, not {x_size}.\"), \n  .                     i = cnd_bullet_rowwise_unlist())\n  .                 }\n  .                 else if (inherits(e, \"dplyr:::mutate_mixed_null\")) {\n  .                   show_group_details <- FALSE\n  .                   bullets <- c(x = glue(\"`{error_name}` must return compatible vectors across groups.\"), \n  .                     i = cnd_bullet_input_info(), i = \"Cannot combine NULL and non NULL results.\", \n  .                     i = cnd_bullet_rowwise_unlist())\n  .                 }\n  .                 else if (inherits(e, \"dplyr:::mutate_not_vector\")) {\n  .                   bullets <- c(x = glue(\"Input `{error_name}` must be a vector, not {friendly_type_of(e$result)}.\"), \n  .                     i = cnd_bullet_input_info(), i = cnd_bullet_rowwise_unlist())\n  .                 }\n  .                 else if (inherits(e, \"dplyr:::error_mutate_incompatible_combine\")) {\n  .                   show_group_details <- FALSE\n  .                   bullets <- c(x = glue(\"Input `{error_name}` must return compatible vectors across groups\"), \n  .                     i = cnd_bullet_input_info(), i = cnd_bullet_combine_details(e$parent$x, \n  .                       e$parent$x_arg), i = cnd_bullet_combine_details(e$parent$y, \n  .                       e$parent$y_arg))\n  .                 }\n  .                 else {\n  .                   bullets <- c(x = conditionMessage(e), i = cnd_bullet_input_info())\n  .                 }\n  .                 bullets <- c(cnd_bullet_header(), bullets, i = if (show_group_details) cnd_bullet_cur_group_label())\n  .                 abort(bullets, class = c(\"dplyr:::mutate_error\", \n  .                   \"dplyr_error\"), error_name = error_name, error_expression = error_expression, \n  .                   parent = e, bullets = bullets)\n  .             }, warning = function(w) {\n  .                 if (check_muffled_warning(w)) {\n  .                   maybe_restart(\"muffleWarning\")\n  .                 }\n  .                 local_call_step(dots = dots, .index = i, .fn = \"mutate\")\n  .                 warn(c(cnd_bullet_header(), i = conditionMessage(w), \n  .                   i = cnd_bullet_input_info(), i = cnd_bullet_cur_group_label()))\n  .                 maybe_restart(\"muffleWarning\")\n  .             }), mask$eval_all_mutate(quo), dplyr:::abort_glue(character(0), \n  .                 list(result = function (x, ..., wt = NULL, sort = FALSE, \n  .                   name = NULL) \n  .                 {\n  .                   UseMethod(\"count\")\n  .                 }), \"dplyr:::mutate_not_vector\"), rlang::exec(abort, \n  .                 class = class, !!!data)), parents = c(0L, 1L, \n  .         2L, 3L, 4L, 5L, 6L, 7L, 6L, 9L, 10L, 4L, 12L, 13L, 13L, \n  .         15L, 16L, 17L, 18L, 19L, 13L, 13L, 13L, 23L, 0L, 0L, \n  .         26L, 27L, 27L, 27L, 30L, 30L, 32L, 33L, 33L, 0L, 36L), \n  .         indices = 1:37), class = \"rlang_trace\", version = 1L), \n  .         parent = NULL, result = function (x, ..., wt = NULL, \n  .             sort = FALSE, name = NULL) \n  .         {\n  .             UseMethod(\"count\")\n  .         }), class = c(\"dplyr:::mutate_not_vector\", \"rlang_error\", \n  .     \"error\", \"condition\")), error_name = \"^^--arrange_quosure_1\", \n  .     error_expression = \"count\", bullets = c(\"Problem with `mutate()` input `^^--arrange_quosure_1`.\", \n  .     x = \"Input `^^--arrange_quosure_1` must be a vector, not a function.\", \n  .     i = \"Input `^^--arrange_quosure_1` is `count`.\")), class = c(\"dplyr:::mutate_error\", \n  . \"dplyr_error\", \"rlang_error\", \"error\", \"condition\")))",
            "22. abort(c(\"arrange() failed at implicit mutate() step. \", bullets), \n  .     class = \"dplyr_error\")",
            "23. signal_abort(cnd)"
          ]
        }
      ]
    }
  ]
}